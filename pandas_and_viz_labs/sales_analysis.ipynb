{
 "cells": [
  {
   "cell_type": "markdown",
   "metadata": {
    "pycharm": {
     "name": "#%% md\n"
    }
   },
   "source": [
    "# Uvod u Pandas\n",
    "\n",
    "Napomena: Ovi materijali su delimično bazirani na pandas tutorijalu Keith Galli-a [\"Solving real world data science tasks with Python Pandas!\"](https://github.com/KeithGalli/Pandas-Data-Science-Tasks). Takođe, dataset koji ćemo koristiti - [Sales dataset](https://github.com/KeithGalli/Pandas-Data-Science-Tasks/tree/master/SalesAnalysis/Sales_Data) - je preuzet iz pomenutog tutorijala."
   ]
  },
  {
   "cell_type": "markdown",
   "metadata": {
    "pycharm": {
     "name": "#%% md\n"
    }
   },
   "source": [
    "## Učitavanje potrebnih biblioteka"
   ]
  },
  {
   "cell_type": "code",
   "execution_count": 1,
   "metadata": {
    "pycharm": {
     "name": "#%%\n"
    },
    "ExecuteTime": {
     "end_time": "2024-12-07T17:56:35.342243Z",
     "start_time": "2024-12-07T17:56:34.074812Z"
    }
   },
   "outputs": [],
   "source": [
    "import pandas as pd\n",
    "from pathlib import Path\n",
    "\n",
    "import matplotlib.pyplot as plt"
   ]
  },
  {
   "cell_type": "markdown",
   "metadata": {
    "pycharm": {
     "name": "#%% md\n"
    }
   },
   "source": [
    "## Učitavanje podataka i upoznavanje sa podacima o prodaji za jedan mesec "
   ]
  },
  {
   "cell_type": "markdown",
   "metadata": {
    "pycharm": {
     "name": "#%% md\n"
    }
   },
   "source": [
    "### Učitavanja podataka iz csv fajla\n",
    "\n",
    "Podaci se nalaze u 'sales_data' direktorijumu, u okviru 'data' direktorijuma. \n",
    "Prvo ćemo kreirati DATA_DIR konstantu koja će sadržati putanju do direktorijuma sa podacima   "
   ]
  },
  {
   "cell_type": "code",
   "execution_count": 2,
   "outputs": [],
   "source": [
    "DATA_DIR = Path.cwd() / 'data' / 'sales_data'"
   ],
   "metadata": {
    "collapsed": false,
    "pycharm": {
     "name": "#%%\n"
    },
    "ExecuteTime": {
     "end_time": "2024-12-07T17:56:35.342927Z",
     "start_time": "2024-12-07T17:56:35.217003Z"
    }
   }
  },
  {
   "cell_type": "markdown",
   "metadata": {
    "pycharm": {
     "name": "#%% md\n"
    }
   },
   "source": [
    "Zatim ćemo učitati podatke iz 'Sales_January_2019' csv fajla: "
   ]
  },
  {
   "cell_type": "code",
   "execution_count": 3,
   "metadata": {
    "pycharm": {
     "name": "#%%\n"
    },
    "ExecuteTime": {
     "end_time": "2024-12-07T17:56:35.376061Z",
     "start_time": "2024-12-07T17:56:35.220211Z"
    }
   },
   "outputs": [],
   "source": [
    "jan_sales = pd.read_csv(DATA_DIR / 'Sales_January_2019.csv')"
   ]
  },
  {
   "cell_type": "markdown",
   "metadata": {
    "pycharm": {
     "name": "#%% md\n"
    }
   },
   "source": [
    "### Upoznavanje sa podacima \n",
    "\n",
    "Prikazati prvih 10 redova učitanog dataset-a"
   ]
  },
  {
   "cell_type": "code",
   "execution_count": 4,
   "outputs": [
    {
     "data": {
      "text/plain": "  Order ID                     Product Quantity Ordered Price Each  \\\n0   141234                      iPhone                1        700   \n1   141235    Lightning Charging Cable                1      14.95   \n2   141236            Wired Headphones                2      11.99   \n3   141237            27in FHD Monitor                1     149.99   \n4   141238            Wired Headphones                1      11.99   \n5   141239      AAA Batteries (4-pack)                1       2.99   \n6   141240      27in 4K Gaming Monitor                1     389.99   \n7   141241        USB-C Charging Cable                1      11.95   \n8   141242  Bose SoundSport Headphones                1      99.99   \n9   141243    Apple Airpods Headphones                1        150   \n\n       Order Date                         Purchase Address  \n0  01/22/19 21:25          944 Walnut St, Boston, MA 02215  \n1  01/28/19 14:15         185 Maple St, Portland, OR 97035  \n2  01/17/19 13:33    538 Adams St, San Francisco, CA 94016  \n3  01/05/19 20:33       738 10th St, Los Angeles, CA 90001  \n4  01/25/19 11:59            387 10th St, Austin, TX 73301  \n5  01/29/19 20:22   775 Willow St, San Francisco, CA 94016  \n6  01/26/19 12:16       979 Park St, Los Angeles, CA 90001  \n7  01/05/19 12:04      181 6th St, San Francisco, CA 94016  \n8  01/01/19 10:30     867 Willow St, Los Angeles, CA 90001  \n9  01/22/19 21:20  657 Johnson St, San Francisco, CA 94016  ",
      "text/html": "<div>\n<style scoped>\n    .dataframe tbody tr th:only-of-type {\n        vertical-align: middle;\n    }\n\n    .dataframe tbody tr th {\n        vertical-align: top;\n    }\n\n    .dataframe thead th {\n        text-align: right;\n    }\n</style>\n<table border=\"1\" class=\"dataframe\">\n  <thead>\n    <tr style=\"text-align: right;\">\n      <th></th>\n      <th>Order ID</th>\n      <th>Product</th>\n      <th>Quantity Ordered</th>\n      <th>Price Each</th>\n      <th>Order Date</th>\n      <th>Purchase Address</th>\n    </tr>\n  </thead>\n  <tbody>\n    <tr>\n      <th>0</th>\n      <td>141234</td>\n      <td>iPhone</td>\n      <td>1</td>\n      <td>700</td>\n      <td>01/22/19 21:25</td>\n      <td>944 Walnut St, Boston, MA 02215</td>\n    </tr>\n    <tr>\n      <th>1</th>\n      <td>141235</td>\n      <td>Lightning Charging Cable</td>\n      <td>1</td>\n      <td>14.95</td>\n      <td>01/28/19 14:15</td>\n      <td>185 Maple St, Portland, OR 97035</td>\n    </tr>\n    <tr>\n      <th>2</th>\n      <td>141236</td>\n      <td>Wired Headphones</td>\n      <td>2</td>\n      <td>11.99</td>\n      <td>01/17/19 13:33</td>\n      <td>538 Adams St, San Francisco, CA 94016</td>\n    </tr>\n    <tr>\n      <th>3</th>\n      <td>141237</td>\n      <td>27in FHD Monitor</td>\n      <td>1</td>\n      <td>149.99</td>\n      <td>01/05/19 20:33</td>\n      <td>738 10th St, Los Angeles, CA 90001</td>\n    </tr>\n    <tr>\n      <th>4</th>\n      <td>141238</td>\n      <td>Wired Headphones</td>\n      <td>1</td>\n      <td>11.99</td>\n      <td>01/25/19 11:59</td>\n      <td>387 10th St, Austin, TX 73301</td>\n    </tr>\n    <tr>\n      <th>5</th>\n      <td>141239</td>\n      <td>AAA Batteries (4-pack)</td>\n      <td>1</td>\n      <td>2.99</td>\n      <td>01/29/19 20:22</td>\n      <td>775 Willow St, San Francisco, CA 94016</td>\n    </tr>\n    <tr>\n      <th>6</th>\n      <td>141240</td>\n      <td>27in 4K Gaming Monitor</td>\n      <td>1</td>\n      <td>389.99</td>\n      <td>01/26/19 12:16</td>\n      <td>979 Park St, Los Angeles, CA 90001</td>\n    </tr>\n    <tr>\n      <th>7</th>\n      <td>141241</td>\n      <td>USB-C Charging Cable</td>\n      <td>1</td>\n      <td>11.95</td>\n      <td>01/05/19 12:04</td>\n      <td>181 6th St, San Francisco, CA 94016</td>\n    </tr>\n    <tr>\n      <th>8</th>\n      <td>141242</td>\n      <td>Bose SoundSport Headphones</td>\n      <td>1</td>\n      <td>99.99</td>\n      <td>01/01/19 10:30</td>\n      <td>867 Willow St, Los Angeles, CA 90001</td>\n    </tr>\n    <tr>\n      <th>9</th>\n      <td>141243</td>\n      <td>Apple Airpods Headphones</td>\n      <td>1</td>\n      <td>150</td>\n      <td>01/22/19 21:20</td>\n      <td>657 Johnson St, San Francisco, CA 94016</td>\n    </tr>\n  </tbody>\n</table>\n</div>"
     },
     "execution_count": 4,
     "metadata": {},
     "output_type": "execute_result"
    }
   ],
   "source": [
    "jan_sales.head(10)"
   ],
   "metadata": {
    "collapsed": false,
    "ExecuteTime": {
     "end_time": "2024-12-07T17:56:35.390959Z",
     "start_time": "2024-12-07T17:56:35.248966Z"
    }
   }
  },
  {
   "cell_type": "markdown",
   "metadata": {
    "pycharm": {
     "name": "#%% md\n"
    }
   },
   "source": [
    "Utvrditi dimenzije data frame-a (broj redova i kolona)"
   ]
  },
  {
   "cell_type": "code",
   "execution_count": 5,
   "metadata": {
    "pycharm": {
     "name": "#%%\n"
    },
    "ExecuteTime": {
     "end_time": "2024-12-07T17:56:35.391452Z",
     "start_time": "2024-12-07T17:56:35.258539Z"
    }
   },
   "outputs": [
    {
     "data": {
      "text/plain": "(9723, 6)"
     },
     "execution_count": 5,
     "metadata": {},
     "output_type": "execute_result"
    }
   ],
   "source": [
    "jan_sales.shape"
   ]
  },
  {
   "cell_type": "markdown",
   "metadata": {
    "pycharm": {
     "name": "#%% md\n"
    }
   },
   "source": [
    "Ispisati listu naziva kolona data frame-a"
   ]
  },
  {
   "cell_type": "code",
   "execution_count": 6,
   "metadata": {
    "pycharm": {
     "name": "#%%\n"
    },
    "ExecuteTime": {
     "end_time": "2024-12-07T17:56:35.391840Z",
     "start_time": "2024-12-07T17:56:35.262101Z"
    }
   },
   "outputs": [
    {
     "data": {
      "text/plain": "['Order ID',\n 'Product',\n 'Quantity Ordered',\n 'Price Each',\n 'Order Date',\n 'Purchase Address']"
     },
     "execution_count": 6,
     "metadata": {},
     "output_type": "execute_result"
    }
   ],
   "source": [
    "jan_sales.columns.tolist()"
   ]
  },
  {
   "cell_type": "markdown",
   "metadata": {
    "pycharm": {
     "name": "#%% md\n"
    }
   },
   "source": [
    "Utvrditi tip podatka svake kolone "
   ]
  },
  {
   "cell_type": "code",
   "execution_count": 7,
   "metadata": {
    "pycharm": {
     "name": "#%%\n"
    },
    "ExecuteTime": {
     "end_time": "2024-12-07T17:56:35.392242Z",
     "start_time": "2024-12-07T17:56:35.266037Z"
    }
   },
   "outputs": [
    {
     "data": {
      "text/plain": "Order ID            object\nProduct             object\nQuantity Ordered    object\nPrice Each          object\nOrder Date          object\nPurchase Address    object\ndtype: object"
     },
     "execution_count": 7,
     "metadata": {},
     "output_type": "execute_result"
    }
   ],
   "source": [
    "jan_sales.dtypes"
   ]
  },
  {
   "cell_type": "markdown",
   "metadata": {
    "pycharm": {
     "name": "#%% md\n"
    }
   },
   "source": [
    "Lep pregled tipova podataka u pandas-u, uključujući i njihovo mapiranje na python tipove podataka, može se naći, na primer, ovde: [https://pbpython.com/pandas_dtypes.html](https://pbpython.com/pandas_dtypes.html)."
   ]
  },
  {
   "cell_type": "markdown",
   "metadata": {
    "pycharm": {
     "name": "#%% md\n"
    }
   },
   "source": [
    "Kompletan skup informacija o data frame-u:"
   ]
  },
  {
   "cell_type": "code",
   "execution_count": 8,
   "metadata": {
    "pycharm": {
     "name": "#%%\n"
    },
    "ExecuteTime": {
     "end_time": "2024-12-07T17:56:35.393032Z",
     "start_time": "2024-12-07T17:56:35.277172Z"
    }
   },
   "outputs": [
    {
     "name": "stdout",
     "output_type": "stream",
     "text": [
      "<class 'pandas.core.frame.DataFrame'>\n",
      "RangeIndex: 9723 entries, 0 to 9722\n",
      "Data columns (total 6 columns):\n",
      " #   Column            Non-Null Count  Dtype \n",
      "---  ------            --------------  ----- \n",
      " 0   Order ID          9697 non-null   object\n",
      " 1   Product           9697 non-null   object\n",
      " 2   Quantity Ordered  9697 non-null   object\n",
      " 3   Price Each        9697 non-null   object\n",
      " 4   Order Date        9697 non-null   object\n",
      " 5   Purchase Address  9697 non-null   object\n",
      "dtypes: object(6)\n",
      "memory usage: 455.9+ KB\n"
     ]
    }
   ],
   "source": [
    "jan_sales.info()"
   ]
  },
  {
   "cell_type": "markdown",
   "metadata": {
    "pycharm": {
     "name": "#%% md\n"
    }
   },
   "source": [
    "### Provera nedostajućih vrednosti\n",
    "\n",
    "Prisustvo nedostajućih vrednosti u data frame-u može se ispitati primenom `isna()` metode:"
   ]
  },
  {
   "cell_type": "code",
   "execution_count": 9,
   "metadata": {
    "pycharm": {
     "name": "#%%\n"
    },
    "ExecuteTime": {
     "end_time": "2024-12-07T17:56:35.393439Z",
     "start_time": "2024-12-07T17:56:35.282453Z"
    }
   },
   "outputs": [
    {
     "data": {
      "text/plain": "Order ID            26\nProduct             26\nQuantity Ordered    26\nPrice Each          26\nOrder Date          26\nPurchase Address    26\ndtype: int64"
     },
     "execution_count": 9,
     "metadata": {},
     "output_type": "execute_result"
    }
   ],
   "source": [
    "jan_sales.isna().sum()"
   ]
  },
  {
   "cell_type": "markdown",
   "metadata": {
    "pycharm": {
     "name": "#%% md\n"
    }
   },
   "source": [
    "#### Uklanjanje redova sa svim nedostajućim vrednostima"
   ]
  },
  {
   "cell_type": "code",
   "execution_count": 10,
   "metadata": {
    "pycharm": {
     "name": "#%%\n"
    },
    "ExecuteTime": {
     "end_time": "2024-12-07T17:56:35.393608Z",
     "start_time": "2024-12-07T17:56:35.288163Z"
    }
   },
   "outputs": [],
   "source": [
    "jan_sales.dropna(how='all', inplace=True)"
   ]
  },
  {
   "cell_type": "code",
   "execution_count": 11,
   "metadata": {
    "pycharm": {
     "name": "#%%\n"
    },
    "ExecuteTime": {
     "end_time": "2024-12-07T17:56:35.393927Z",
     "start_time": "2024-12-07T17:56:35.293983Z"
    }
   },
   "outputs": [
    {
     "data": {
      "text/plain": "0"
     },
     "execution_count": 11,
     "metadata": {},
     "output_type": "execute_result"
    }
   ],
   "source": [
    "jan_sales.isna().sum().sum()"
   ]
  },
  {
   "cell_type": "markdown",
   "metadata": {
    "pycharm": {
     "name": "#%% md\n"
    }
   },
   "source": [
    "### Selekcija pojedinačnih kolona i redova i kreiranje podskupa podataka\n",
    "\n",
    "Selekcija kolona i redova, odnosno kreiranje podskupa podataka, se može uraditi na različite načine, ali je preporučena praksa da se koriste `loc` ili `iloc` metode pandas Dataframe-a i to na sledeći način:\n",
    "\n",
    "- Kada se selekcija redova i kolona vrši izbor na osnovu njihovog rednog broja, trebalo bi koristiti `iloc`\n",
    "\n",
    "- Kada se izbor zasniva na uslovu koje redovi treba da zadovolje i/ili kolone treba izabrati na osnovu njihovih naziva, treba koristiti `loc` "
   ]
  },
  {
   "cell_type": "markdown",
   "metadata": {
    "pycharm": {
     "name": "#%% md\n"
    }
   },
   "source": [
    "**Primer 1**: selektovati prve 3 kolone i prvih 6 redova"
   ]
  },
  {
   "cell_type": "code",
   "execution_count": 12,
   "metadata": {
    "pycharm": {
     "name": "#%%\n"
    },
    "ExecuteTime": {
     "end_time": "2024-12-07T17:56:35.394608Z",
     "start_time": "2024-12-07T17:56:35.299905Z"
    }
   },
   "outputs": [
    {
     "data": {
      "text/plain": "  Order ID                   Product Quantity Ordered\n0   141234                    iPhone                1\n1   141235  Lightning Charging Cable                1\n2   141236          Wired Headphones                2\n3   141237          27in FHD Monitor                1\n4   141238          Wired Headphones                1\n5   141239    AAA Batteries (4-pack)                1",
      "text/html": "<div>\n<style scoped>\n    .dataframe tbody tr th:only-of-type {\n        vertical-align: middle;\n    }\n\n    .dataframe tbody tr th {\n        vertical-align: top;\n    }\n\n    .dataframe thead th {\n        text-align: right;\n    }\n</style>\n<table border=\"1\" class=\"dataframe\">\n  <thead>\n    <tr style=\"text-align: right;\">\n      <th></th>\n      <th>Order ID</th>\n      <th>Product</th>\n      <th>Quantity Ordered</th>\n    </tr>\n  </thead>\n  <tbody>\n    <tr>\n      <th>0</th>\n      <td>141234</td>\n      <td>iPhone</td>\n      <td>1</td>\n    </tr>\n    <tr>\n      <th>1</th>\n      <td>141235</td>\n      <td>Lightning Charging Cable</td>\n      <td>1</td>\n    </tr>\n    <tr>\n      <th>2</th>\n      <td>141236</td>\n      <td>Wired Headphones</td>\n      <td>2</td>\n    </tr>\n    <tr>\n      <th>3</th>\n      <td>141237</td>\n      <td>27in FHD Monitor</td>\n      <td>1</td>\n    </tr>\n    <tr>\n      <th>4</th>\n      <td>141238</td>\n      <td>Wired Headphones</td>\n      <td>1</td>\n    </tr>\n    <tr>\n      <th>5</th>\n      <td>141239</td>\n      <td>AAA Batteries (4-pack)</td>\n      <td>1</td>\n    </tr>\n  </tbody>\n</table>\n</div>"
     },
     "execution_count": 12,
     "metadata": {},
     "output_type": "execute_result"
    }
   ],
   "source": [
    "jan_sales.iloc[:6, :3]"
   ]
  },
  {
   "cell_type": "markdown",
   "metadata": {
    "pycharm": {
     "name": "#%% md\n"
    }
   },
   "source": [
    "**Primer 2**: selektovati poslednjih 5 redova i 1., 2., i 5. kolonu"
   ]
  },
  {
   "cell_type": "code",
   "execution_count": 13,
   "metadata": {
    "pycharm": {
     "name": "#%%\n"
    },
    "ExecuteTime": {
     "end_time": "2024-12-07T17:56:35.395855Z",
     "start_time": "2024-12-07T17:56:35.306387Z"
    }
   },
   "outputs": [
    {
     "data": {
      "text/plain": "     Order ID                 Product      Order Date\n9718   150497            20in Monitor  01/26/19 19:09\n9719   150498        27in FHD Monitor  01/10/19 22:58\n9720   150499         ThinkPad Laptop  01/21/19 14:31\n9721   150500  AAA Batteries (4-pack)  01/15/19 14:21\n9722   150501            Google Phone  01/13/19 16:43",
      "text/html": "<div>\n<style scoped>\n    .dataframe tbody tr th:only-of-type {\n        vertical-align: middle;\n    }\n\n    .dataframe tbody tr th {\n        vertical-align: top;\n    }\n\n    .dataframe thead th {\n        text-align: right;\n    }\n</style>\n<table border=\"1\" class=\"dataframe\">\n  <thead>\n    <tr style=\"text-align: right;\">\n      <th></th>\n      <th>Order ID</th>\n      <th>Product</th>\n      <th>Order Date</th>\n    </tr>\n  </thead>\n  <tbody>\n    <tr>\n      <th>9718</th>\n      <td>150497</td>\n      <td>20in Monitor</td>\n      <td>01/26/19 19:09</td>\n    </tr>\n    <tr>\n      <th>9719</th>\n      <td>150498</td>\n      <td>27in FHD Monitor</td>\n      <td>01/10/19 22:58</td>\n    </tr>\n    <tr>\n      <th>9720</th>\n      <td>150499</td>\n      <td>ThinkPad Laptop</td>\n      <td>01/21/19 14:31</td>\n    </tr>\n    <tr>\n      <th>9721</th>\n      <td>150500</td>\n      <td>AAA Batteries (4-pack)</td>\n      <td>01/15/19 14:21</td>\n    </tr>\n    <tr>\n      <th>9722</th>\n      <td>150501</td>\n      <td>Google Phone</td>\n      <td>01/13/19 16:43</td>\n    </tr>\n  </tbody>\n</table>\n</div>"
     },
     "execution_count": 13,
     "metadata": {},
     "output_type": "execute_result"
    }
   ],
   "source": [
    "jan_sales.iloc[-5:, [0,1,4]]"
   ]
  },
  {
   "cell_type": "markdown",
   "metadata": {
    "pycharm": {
     "name": "#%% md\n"
    }
   },
   "source": [
    "**Primer 3**: Selektovati kolone `Order ID`, `Order Date`, i `Purchase Address` za porudžbine iz Bostona\n",
    "\n",
    "Tip: string vrednostima kolone možemo pristupiti preko `str` polja, tako da onda možemo pozvati bilo koju string metodu nad vrednostima kolone"
   ]
  },
  {
   "cell_type": "code",
   "execution_count": 14,
   "metadata": {
    "pycharm": {
     "name": "#%%\n"
    },
    "ExecuteTime": {
     "end_time": "2024-12-07T17:56:35.396844Z",
     "start_time": "2024-12-07T17:56:35.316518Z"
    }
   },
   "outputs": [
    {
     "data": {
      "text/plain": "     Order ID      Order Date                  Purchase Address\n0      141234  01/22/19 21:25   944 Walnut St, Boston, MA 02215\n17     141251  01/24/19 08:13   414 Walnut St, Boston, MA 02215\n29     141263  01/11/19 23:33   640 Spruce St, Boston, MA 02215\n31     141265  01/01/19 16:52    853 Ridge St, Boston, MA 02215\n37     141271  01/30/19 10:51      90 13th St, Boston, MA 02215\n...       ...             ...                               ...\n9627   150409  01/10/19 02:38   410 Forest St, Boston, MA 02215\n9660   150440  01/10/19 19:19   82 Johnson St, Boston, MA 02215\n9666   150445  01/11/19 13:56  147 Lincoln St, Boston, MA 02215\n9694   150473  01/10/19 09:09  148 Hickory St, Boston, MA 02215\n9722   150501  01/13/19 16:43    428 Cedar St, Boston, MA 02215\n\n[1048 rows x 3 columns]",
      "text/html": "<div>\n<style scoped>\n    .dataframe tbody tr th:only-of-type {\n        vertical-align: middle;\n    }\n\n    .dataframe tbody tr th {\n        vertical-align: top;\n    }\n\n    .dataframe thead th {\n        text-align: right;\n    }\n</style>\n<table border=\"1\" class=\"dataframe\">\n  <thead>\n    <tr style=\"text-align: right;\">\n      <th></th>\n      <th>Order ID</th>\n      <th>Order Date</th>\n      <th>Purchase Address</th>\n    </tr>\n  </thead>\n  <tbody>\n    <tr>\n      <th>0</th>\n      <td>141234</td>\n      <td>01/22/19 21:25</td>\n      <td>944 Walnut St, Boston, MA 02215</td>\n    </tr>\n    <tr>\n      <th>17</th>\n      <td>141251</td>\n      <td>01/24/19 08:13</td>\n      <td>414 Walnut St, Boston, MA 02215</td>\n    </tr>\n    <tr>\n      <th>29</th>\n      <td>141263</td>\n      <td>01/11/19 23:33</td>\n      <td>640 Spruce St, Boston, MA 02215</td>\n    </tr>\n    <tr>\n      <th>31</th>\n      <td>141265</td>\n      <td>01/01/19 16:52</td>\n      <td>853 Ridge St, Boston, MA 02215</td>\n    </tr>\n    <tr>\n      <th>37</th>\n      <td>141271</td>\n      <td>01/30/19 10:51</td>\n      <td>90 13th St, Boston, MA 02215</td>\n    </tr>\n    <tr>\n      <th>...</th>\n      <td>...</td>\n      <td>...</td>\n      <td>...</td>\n    </tr>\n    <tr>\n      <th>9627</th>\n      <td>150409</td>\n      <td>01/10/19 02:38</td>\n      <td>410 Forest St, Boston, MA 02215</td>\n    </tr>\n    <tr>\n      <th>9660</th>\n      <td>150440</td>\n      <td>01/10/19 19:19</td>\n      <td>82 Johnson St, Boston, MA 02215</td>\n    </tr>\n    <tr>\n      <th>9666</th>\n      <td>150445</td>\n      <td>01/11/19 13:56</td>\n      <td>147 Lincoln St, Boston, MA 02215</td>\n    </tr>\n    <tr>\n      <th>9694</th>\n      <td>150473</td>\n      <td>01/10/19 09:09</td>\n      <td>148 Hickory St, Boston, MA 02215</td>\n    </tr>\n    <tr>\n      <th>9722</th>\n      <td>150501</td>\n      <td>01/13/19 16:43</td>\n      <td>428 Cedar St, Boston, MA 02215</td>\n    </tr>\n  </tbody>\n</table>\n<p>1048 rows × 3 columns</p>\n</div>"
     },
     "execution_count": 14,
     "metadata": {},
     "output_type": "execute_result"
    }
   ],
   "source": [
    "jan_sales.loc[jan_sales['Purchase Address'].str.contains('Boston'), ['Order ID','Order Date','Purchase Address']]"
   ]
  },
  {
   "cell_type": "markdown",
   "metadata": {
    "pycharm": {
     "name": "#%% md\n"
    }
   },
   "source": [
    "**Primer 4**: Selektovati kolone `Order ID`, `Product`, i `Price Each` za porudžbine kod kojih naručena količina nije manja od 3\n",
    "\n",
    "Napomena: Primetite da iako bi kolona `Quantity Ordered` trebalo da sadrži numeričke podatke, njene vrednosti su zapisane kao stringovi: "
   ]
  },
  {
   "cell_type": "code",
   "execution_count": 15,
   "metadata": {
    "pycharm": {
     "name": "#%%\n"
    },
    "ExecuteTime": {
     "end_time": "2024-12-07T17:56:35.397246Z",
     "start_time": "2024-12-07T17:56:35.322766Z"
    }
   },
   "outputs": [
    {
     "data": {
      "text/plain": "str"
     },
     "execution_count": 15,
     "metadata": {},
     "output_type": "execute_result"
    }
   ],
   "source": [
    "type(jan_sales['Quantity Ordered'][0])"
   ]
  },
  {
   "cell_type": "markdown",
   "metadata": {
    "pycharm": {
     "name": "#%% md\n"
    }
   },
   "source": [
    "Tako da je potrebno da prvo transformišemo `Quantity Ordered` kolonu u numerički tip:"
   ]
  },
  {
   "cell_type": "code",
   "execution_count": 16,
   "metadata": {
    "pycharm": {
     "name": "#%%\n"
    },
    "ExecuteTime": {
     "end_time": "2024-12-07T17:56:35.397400Z",
     "start_time": "2024-12-07T17:56:35.329964Z"
    }
   },
   "outputs": [],
   "source": [
    "jan_sales['Quantity Ordered'] = pd.to_numeric(jan_sales['Quantity Ordered'], errors='coerce')"
   ]
  },
  {
   "cell_type": "code",
   "execution_count": 17,
   "outputs": [
    {
     "data": {
      "text/plain": "16"
     },
     "execution_count": 17,
     "metadata": {},
     "output_type": "execute_result"
    }
   ],
   "source": [
    "jan_sales['Quantity Ordered'].isna().sum()"
   ],
   "metadata": {
    "collapsed": false,
    "ExecuteTime": {
     "end_time": "2024-12-07T17:56:35.397998Z",
     "start_time": "2024-12-07T17:56:35.332915Z"
    }
   }
  },
  {
   "cell_type": "markdown",
   "metadata": {
    "pycharm": {
     "name": "#%% md\n"
    }
   },
   "source": [
    "Sada se možemo vratiti selekciji redova i kolona:"
   ]
  },
  {
   "cell_type": "code",
   "execution_count": 18,
   "metadata": {
    "pycharm": {
     "name": "#%%\n"
    },
    "ExecuteTime": {
     "end_time": "2024-12-07T17:56:35.407385Z",
     "start_time": "2024-12-07T17:56:35.342597Z"
    }
   },
   "outputs": [
    {
     "data": {
      "text/plain": "     Order ID                 Product Price Each  Quantity Ordered\n12     141246  AAA Batteries (4-pack)       2.99               3.0\n52     141285  AAA Batteries (4-pack)       2.99               3.0\n58     141290   AA Batteries (4-pack)       3.84               3.0\n73     141305  AAA Batteries (4-pack)       2.99               3.0\n84     141316  AAA Batteries (4-pack)       2.99               3.0\n...       ...                     ...        ...               ...\n9513   150299   AA Batteries (4-pack)       3.84               3.0\n9590   150372  AAA Batteries (4-pack)       2.99               3.0\n9636   150417        Wired Headphones      11.99               3.0\n9659   150439        Wired Headphones      11.99               3.0\n9700   150479   AA Batteries (4-pack)       3.84               4.0\n\n[216 rows x 4 columns]",
      "text/html": "<div>\n<style scoped>\n    .dataframe tbody tr th:only-of-type {\n        vertical-align: middle;\n    }\n\n    .dataframe tbody tr th {\n        vertical-align: top;\n    }\n\n    .dataframe thead th {\n        text-align: right;\n    }\n</style>\n<table border=\"1\" class=\"dataframe\">\n  <thead>\n    <tr style=\"text-align: right;\">\n      <th></th>\n      <th>Order ID</th>\n      <th>Product</th>\n      <th>Price Each</th>\n      <th>Quantity Ordered</th>\n    </tr>\n  </thead>\n  <tbody>\n    <tr>\n      <th>12</th>\n      <td>141246</td>\n      <td>AAA Batteries (4-pack)</td>\n      <td>2.99</td>\n      <td>3.0</td>\n    </tr>\n    <tr>\n      <th>52</th>\n      <td>141285</td>\n      <td>AAA Batteries (4-pack)</td>\n      <td>2.99</td>\n      <td>3.0</td>\n    </tr>\n    <tr>\n      <th>58</th>\n      <td>141290</td>\n      <td>AA Batteries (4-pack)</td>\n      <td>3.84</td>\n      <td>3.0</td>\n    </tr>\n    <tr>\n      <th>73</th>\n      <td>141305</td>\n      <td>AAA Batteries (4-pack)</td>\n      <td>2.99</td>\n      <td>3.0</td>\n    </tr>\n    <tr>\n      <th>84</th>\n      <td>141316</td>\n      <td>AAA Batteries (4-pack)</td>\n      <td>2.99</td>\n      <td>3.0</td>\n    </tr>\n    <tr>\n      <th>...</th>\n      <td>...</td>\n      <td>...</td>\n      <td>...</td>\n      <td>...</td>\n    </tr>\n    <tr>\n      <th>9513</th>\n      <td>150299</td>\n      <td>AA Batteries (4-pack)</td>\n      <td>3.84</td>\n      <td>3.0</td>\n    </tr>\n    <tr>\n      <th>9590</th>\n      <td>150372</td>\n      <td>AAA Batteries (4-pack)</td>\n      <td>2.99</td>\n      <td>3.0</td>\n    </tr>\n    <tr>\n      <th>9636</th>\n      <td>150417</td>\n      <td>Wired Headphones</td>\n      <td>11.99</td>\n      <td>3.0</td>\n    </tr>\n    <tr>\n      <th>9659</th>\n      <td>150439</td>\n      <td>Wired Headphones</td>\n      <td>11.99</td>\n      <td>3.0</td>\n    </tr>\n    <tr>\n      <th>9700</th>\n      <td>150479</td>\n      <td>AA Batteries (4-pack)</td>\n      <td>3.84</td>\n      <td>4.0</td>\n    </tr>\n  </tbody>\n</table>\n<p>216 rows × 4 columns</p>\n</div>"
     },
     "execution_count": 18,
     "metadata": {},
     "output_type": "execute_result"
    }
   ],
   "source": [
    "jan_sales.loc[jan_sales['Quantity Ordered'] >= 3, ['Order ID', 'Product', 'Price Each', 'Quantity Ordered']]"
   ]
  },
  {
   "cell_type": "markdown",
   "metadata": {
    "pycharm": {
     "name": "#%% md\n"
    }
   },
   "source": [
    "## Učitavanje podataka o prodaji za sve mesece u 2019. god. i integracija mesečnih podataka o prodaji u jedan data frame\n",
    "\n",
    "Potrebno je da učitamo podatke o prodaji iz svih csv fajlova u 'sales_data' direktorijumu (po jedan fajl za svaki mesec 2019. god.)\n",
    "\n",
    "Prvo ćemo videti kako možemo da selektujemo samo .csv fajlove iz datog direktorijuma:"
   ]
  },
  {
   "cell_type": "code",
   "execution_count": 19,
   "metadata": {
    "pycharm": {
     "name": "#%%\n"
    },
    "ExecuteTime": {
     "end_time": "2024-12-07T17:56:35.407560Z",
     "start_time": "2024-12-07T17:56:35.346983Z"
    }
   },
   "outputs": [],
   "source": [
    "def get_csv_files(fpath: Path) -> list:\n",
    "    if not fpath.is_dir():\n",
    "        raise RuntimeError(\"Not a path to a directory\")\n",
    "    csv_files = []\n",
    "    for item in fpath.iterdir():\n",
    "        if item.is_dir():\n",
    "            continue\n",
    "        if item.suffix == '.csv':\n",
    "            csv_files.append(item)\n",
    "    return csv_files"
   ]
  },
  {
   "cell_type": "code",
   "execution_count": 20,
   "outputs": [
    {
     "data": {
      "text/plain": "[PosixPath('/Users/jelena.jovanovic/DataspellProjects/p3-2024v/labs9_10/data/sales_data/Sales_December_2019.csv'),\n PosixPath('/Users/jelena.jovanovic/DataspellProjects/p3-2024v/labs9_10/data/sales_data/Sales_April_2019.csv'),\n PosixPath('/Users/jelena.jovanovic/DataspellProjects/p3-2024v/labs9_10/data/sales_data/Sales_February_2019.csv'),\n PosixPath('/Users/jelena.jovanovic/DataspellProjects/p3-2024v/labs9_10/data/sales_data/Sales_March_2019.csv'),\n PosixPath('/Users/jelena.jovanovic/DataspellProjects/p3-2024v/labs9_10/data/sales_data/Sales_August_2019.csv'),\n PosixPath('/Users/jelena.jovanovic/DataspellProjects/p3-2024v/labs9_10/data/sales_data/Sales_May_2019.csv'),\n PosixPath('/Users/jelena.jovanovic/DataspellProjects/p3-2024v/labs9_10/data/sales_data/Sales_November_2019.csv'),\n PosixPath('/Users/jelena.jovanovic/DataspellProjects/p3-2024v/labs9_10/data/sales_data/Sales_October_2019.csv'),\n PosixPath('/Users/jelena.jovanovic/DataspellProjects/p3-2024v/labs9_10/data/sales_data/Sales_January_2019.csv'),\n PosixPath('/Users/jelena.jovanovic/DataspellProjects/p3-2024v/labs9_10/data/sales_data/Sales_September_2019.csv'),\n PosixPath('/Users/jelena.jovanovic/DataspellProjects/p3-2024v/labs9_10/data/sales_data/Sales_July_2019.csv'),\n PosixPath('/Users/jelena.jovanovic/DataspellProjects/p3-2024v/labs9_10/data/sales_data/Sales_June_2019.csv')]"
     },
     "execution_count": 20,
     "metadata": {},
     "output_type": "execute_result"
    }
   ],
   "source": [
    "get_csv_files(DATA_DIR)"
   ],
   "metadata": {
    "collapsed": false,
    "pycharm": {
     "name": "#%%\n"
    },
    "ExecuteTime": {
     "end_time": "2024-12-07T17:56:35.407957Z",
     "start_time": "2024-12-07T17:56:35.349630Z"
    }
   }
  },
  {
   "cell_type": "markdown",
   "metadata": {
    "pycharm": {
     "name": "#%% md\n"
    }
   },
   "source": [
    "Sada ćemo, u petlji, uzimati jedan po jedan csv fajl, učitati podatke iz njega i dodati učitane podatke u jedan data frame koji sadrži podatke o prodaji za celu godinu. Za spajanje dva data frame-a, koristimo funkciju `pd.concat`:"
   ]
  },
  {
   "cell_type": "code",
   "execution_count": 21,
   "metadata": {
    "pycharm": {
     "name": "#%%\n"
    },
    "ExecuteTime": {
     "end_time": "2024-12-07T17:56:36.259774Z",
     "start_time": "2024-12-07T17:56:35.354668Z"
    }
   },
   "outputs": [],
   "source": [
    "all_sales = pd.DataFrame()\n",
    "for csv_file in get_csv_files(DATA_DIR):\n",
    "    df = pd.read_csv(csv_file)\n",
    "    all_sales = pd.concat([all_sales, df], axis=0)"
   ]
  },
  {
   "cell_type": "code",
   "execution_count": 22,
   "metadata": {
    "pycharm": {
     "name": "#%%\n"
    },
    "ExecuteTime": {
     "end_time": "2024-12-07T17:56:36.280997Z",
     "start_time": "2024-12-07T17:56:35.735068Z"
    }
   },
   "outputs": [
    {
     "data": {
      "text/plain": "(186850, 6)"
     },
     "execution_count": 22,
     "metadata": {},
     "output_type": "execute_result"
    }
   ],
   "source": [
    "all_sales.shape"
   ]
  },
  {
   "cell_type": "markdown",
   "metadata": {
    "pycharm": {
     "name": "#%% md\n"
    }
   },
   "source": [
    "### Pregled učitanih i integrisanih podataka o prodaji"
   ]
  },
  {
   "cell_type": "code",
   "execution_count": 23,
   "metadata": {
    "pycharm": {
     "name": "#%%\n"
    },
    "ExecuteTime": {
     "end_time": "2024-12-07T17:56:36.282104Z",
     "start_time": "2024-12-07T17:56:35.778354Z"
    }
   },
   "outputs": [
    {
     "name": "stdout",
     "output_type": "stream",
     "text": [
      "<class 'pandas.core.frame.DataFrame'>\n",
      "Index: 186850 entries, 0 to 13621\n",
      "Data columns (total 6 columns):\n",
      " #   Column            Non-Null Count   Dtype \n",
      "---  ------            --------------   ----- \n",
      " 0   Order ID          186305 non-null  object\n",
      " 1   Product           186305 non-null  object\n",
      " 2   Quantity Ordered  186305 non-null  object\n",
      " 3   Price Each        186305 non-null  object\n",
      " 4   Order Date        186305 non-null  object\n",
      " 5   Purchase Address  186305 non-null  object\n",
      "dtypes: object(6)\n",
      "memory usage: 10.0+ MB\n"
     ]
    }
   ],
   "source": [
    "all_sales.info()"
   ]
  },
  {
   "cell_type": "markdown",
   "metadata": {
    "pycharm": {
     "name": "#%% md\n"
    }
   },
   "source": [
    "Obratite pažnju na razliku između broja redova i vrednosti indeksa. Deluje kao da se učitane vrednosti indeksa ponavljaju. Da posle ne bismo imali problema, potrebno je da sredimo, odnosno resetujemo indeks:"
   ]
  },
  {
   "cell_type": "code",
   "execution_count": 24,
   "metadata": {
    "pycharm": {
     "name": "#%%\n"
    },
    "ExecuteTime": {
     "end_time": "2024-12-07T17:56:36.282303Z",
     "start_time": "2024-12-07T17:56:35.785050Z"
    }
   },
   "outputs": [],
   "source": [
    "all_sales.reset_index(inplace=True, drop=True)  "
   ]
  },
  {
   "cell_type": "code",
   "execution_count": 25,
   "metadata": {
    "pycharm": {
     "name": "#%%\n"
    },
    "ExecuteTime": {
     "end_time": "2024-12-07T17:56:36.282643Z",
     "start_time": "2024-12-07T17:56:35.789606Z"
    }
   },
   "outputs": [
    {
     "data": {
      "text/plain": "RangeIndex(start=0, stop=186850, step=1)"
     },
     "execution_count": 25,
     "metadata": {},
     "output_type": "execute_result"
    }
   ],
   "source": [
    "all_sales.index"
   ]
  },
  {
   "cell_type": "markdown",
   "metadata": {
    "pycharm": {
     "name": "#%% md\n"
    }
   },
   "source": [
    "Preimenovaćemo data frame, da smanjimo kucanje: "
   ]
  },
  {
   "cell_type": "code",
   "execution_count": 26,
   "metadata": {
    "pycharm": {
     "name": "#%%\n"
    },
    "ExecuteTime": {
     "end_time": "2024-12-07T17:56:36.282792Z",
     "start_time": "2024-12-07T17:56:35.793676Z"
    }
   },
   "outputs": [],
   "source": [
    "sales = all_sales"
   ]
  },
  {
   "cell_type": "markdown",
   "metadata": {
    "pycharm": {
     "name": "#%% md\n"
    }
   },
   "source": [
    "Primetite da smo samo dali novo ime (referencu) postojećem objektu, odnosno, nismo kreirali novi data frame objekat, već samo novu referencu na postojeći\n",
    "\n",
    "To možemo da potvrdimo:"
   ]
  },
  {
   "cell_type": "code",
   "execution_count": 27,
   "metadata": {
    "pycharm": {
     "name": "#%%\n"
    },
    "ExecuteTime": {
     "end_time": "2024-12-07T17:56:36.283108Z",
     "start_time": "2024-12-07T17:56:35.797608Z"
    }
   },
   "outputs": [
    {
     "data": {
      "text/plain": "True"
     },
     "execution_count": 27,
     "metadata": {},
     "output_type": "execute_result"
    }
   ],
   "source": [
    "id(sales) == id(all_sales)    "
   ]
  },
  {
   "cell_type": "code",
   "execution_count": 28,
   "outputs": [
    {
     "data": {
      "text/plain": "True"
     },
     "execution_count": 28,
     "metadata": {},
     "output_type": "execute_result"
    }
   ],
   "source": [
    "sales is all_sales"
   ],
   "metadata": {
    "collapsed": false,
    "ExecuteTime": {
     "end_time": "2024-12-07T17:56:36.283400Z",
     "start_time": "2024-12-07T17:56:35.802944Z"
    }
   }
  },
  {
   "cell_type": "markdown",
   "metadata": {
    "pycharm": {
     "name": "#%% md\n"
    }
   },
   "source": [
    "Ako bismo hteli da kreiramo novi pd.DataFrame objekat, identičan postojećem, bilo bi potrebno da uradimo sledeće:"
   ]
  },
  {
   "cell_type": "code",
   "execution_count": 29,
   "metadata": {
    "pycharm": {
     "name": "#%%\n"
    },
    "ExecuteTime": {
     "end_time": "2024-12-07T17:56:36.283532Z",
     "start_time": "2024-12-07T17:56:35.809877Z"
    }
   },
   "outputs": [],
   "source": [
    "tmp = sales.copy()"
   ]
  },
  {
   "cell_type": "code",
   "execution_count": 30,
   "metadata": {
    "pycharm": {
     "name": "#%%\n"
    },
    "ExecuteTime": {
     "end_time": "2024-12-07T17:56:36.283842Z",
     "start_time": "2024-12-07T17:56:35.828068Z"
    }
   },
   "outputs": [
    {
     "data": {
      "text/plain": "False"
     },
     "execution_count": 30,
     "metadata": {},
     "output_type": "execute_result"
    }
   ],
   "source": [
    "tmp is sales"
   ]
  },
  {
   "cell_type": "code",
   "execution_count": 31,
   "outputs": [],
   "source": [
    "del tmp"
   ],
   "metadata": {
    "collapsed": false,
    "ExecuteTime": {
     "end_time": "2024-12-07T17:56:36.283978Z",
     "start_time": "2024-12-07T17:56:35.837918Z"
    }
   }
  },
  {
   "cell_type": "markdown",
   "source": [
    "## Sređivanje podataka (data wrangling) "
   ],
   "metadata": {
    "collapsed": false
   }
  },
  {
   "cell_type": "code",
   "execution_count": 32,
   "metadata": {
    "pycharm": {
     "name": "#%%\n"
    },
    "ExecuteTime": {
     "end_time": "2024-12-07T17:56:36.284312Z",
     "start_time": "2024-12-07T17:56:35.890219Z"
    }
   },
   "outputs": [
    {
     "name": "stdout",
     "output_type": "stream",
     "text": [
      "<class 'pandas.core.frame.DataFrame'>\n",
      "RangeIndex: 186850 entries, 0 to 186849\n",
      "Data columns (total 6 columns):\n",
      " #   Column            Non-Null Count   Dtype \n",
      "---  ------            --------------   ----- \n",
      " 0   Order ID          186305 non-null  object\n",
      " 1   Product           186305 non-null  object\n",
      " 2   Quantity Ordered  186305 non-null  object\n",
      " 3   Price Each        186305 non-null  object\n",
      " 4   Order Date        186305 non-null  object\n",
      " 5   Purchase Address  186305 non-null  object\n",
      "dtypes: object(6)\n",
      "memory usage: 8.6+ MB\n"
     ]
    }
   ],
   "source": [
    "sales.info()"
   ]
  },
  {
   "cell_type": "markdown",
   "metadata": {
    "pycharm": {
     "name": "#%% md\n"
    }
   },
   "source": [
    "Veliki broj kolona je tipa object, uključujući i one za koje to ne bismo očekivali - konkretno, kolone `Quantity Ordered`, `Price Each` i `Order Date`. To moramo promeniti, ali prvo ćemo se pozabaviti nedostajućim vrednostima."
   ]
  },
  {
   "cell_type": "markdown",
   "source": [
    "### Uklanjanje observacija sa nedostajućim vrednostima\n",
    "\n",
    "Izlaz f. `info()` sugeriše da nedostaju kompletni redovi podataka, odnosno da imamo observacije sa svim nedostajućim vrednostima. Uzećemo uzorak da to proverimo:"
   ],
   "metadata": {
    "collapsed": false
   }
  },
  {
   "cell_type": "code",
   "execution_count": 33,
   "metadata": {
    "pycharm": {
     "name": "#%%\n"
    },
    "ExecuteTime": {
     "end_time": "2024-12-07T17:56:36.285211Z",
     "start_time": "2024-12-07T17:56:35.907815Z"
    }
   },
   "outputs": [
    {
     "data": {
      "text/plain": "       Order ID Product Quantity Ordered Price Each Order Date  \\\n264         NaN     NaN              NaN        NaN        NaN   \n648         NaN     NaN              NaN        NaN        NaN   \n680         NaN     NaN              NaN        NaN        NaN   \n1385        NaN     NaN              NaN        NaN        NaN   \n1495        NaN     NaN              NaN        NaN        NaN   \n...         ...     ...              ...        ...        ...   \n185795      NaN     NaN              NaN        NaN        NaN   \n185868      NaN     NaN              NaN        NaN        NaN   \n185887      NaN     NaN              NaN        NaN        NaN   \n185960      NaN     NaN              NaN        NaN        NaN   \n186580      NaN     NaN              NaN        NaN        NaN   \n\n       Purchase Address  \n264                 NaN  \n648                 NaN  \n680                 NaN  \n1385                NaN  \n1495                NaN  \n...                 ...  \n185795              NaN  \n185868              NaN  \n185887              NaN  \n185960              NaN  \n186580              NaN  \n\n[545 rows x 6 columns]",
      "text/html": "<div>\n<style scoped>\n    .dataframe tbody tr th:only-of-type {\n        vertical-align: middle;\n    }\n\n    .dataframe tbody tr th {\n        vertical-align: top;\n    }\n\n    .dataframe thead th {\n        text-align: right;\n    }\n</style>\n<table border=\"1\" class=\"dataframe\">\n  <thead>\n    <tr style=\"text-align: right;\">\n      <th></th>\n      <th>Order ID</th>\n      <th>Product</th>\n      <th>Quantity Ordered</th>\n      <th>Price Each</th>\n      <th>Order Date</th>\n      <th>Purchase Address</th>\n    </tr>\n  </thead>\n  <tbody>\n    <tr>\n      <th>264</th>\n      <td>NaN</td>\n      <td>NaN</td>\n      <td>NaN</td>\n      <td>NaN</td>\n      <td>NaN</td>\n      <td>NaN</td>\n    </tr>\n    <tr>\n      <th>648</th>\n      <td>NaN</td>\n      <td>NaN</td>\n      <td>NaN</td>\n      <td>NaN</td>\n      <td>NaN</td>\n      <td>NaN</td>\n    </tr>\n    <tr>\n      <th>680</th>\n      <td>NaN</td>\n      <td>NaN</td>\n      <td>NaN</td>\n      <td>NaN</td>\n      <td>NaN</td>\n      <td>NaN</td>\n    </tr>\n    <tr>\n      <th>1385</th>\n      <td>NaN</td>\n      <td>NaN</td>\n      <td>NaN</td>\n      <td>NaN</td>\n      <td>NaN</td>\n      <td>NaN</td>\n    </tr>\n    <tr>\n      <th>1495</th>\n      <td>NaN</td>\n      <td>NaN</td>\n      <td>NaN</td>\n      <td>NaN</td>\n      <td>NaN</td>\n      <td>NaN</td>\n    </tr>\n    <tr>\n      <th>...</th>\n      <td>...</td>\n      <td>...</td>\n      <td>...</td>\n      <td>...</td>\n      <td>...</td>\n      <td>...</td>\n    </tr>\n    <tr>\n      <th>185795</th>\n      <td>NaN</td>\n      <td>NaN</td>\n      <td>NaN</td>\n      <td>NaN</td>\n      <td>NaN</td>\n      <td>NaN</td>\n    </tr>\n    <tr>\n      <th>185868</th>\n      <td>NaN</td>\n      <td>NaN</td>\n      <td>NaN</td>\n      <td>NaN</td>\n      <td>NaN</td>\n      <td>NaN</td>\n    </tr>\n    <tr>\n      <th>185887</th>\n      <td>NaN</td>\n      <td>NaN</td>\n      <td>NaN</td>\n      <td>NaN</td>\n      <td>NaN</td>\n      <td>NaN</td>\n    </tr>\n    <tr>\n      <th>185960</th>\n      <td>NaN</td>\n      <td>NaN</td>\n      <td>NaN</td>\n      <td>NaN</td>\n      <td>NaN</td>\n      <td>NaN</td>\n    </tr>\n    <tr>\n      <th>186580</th>\n      <td>NaN</td>\n      <td>NaN</td>\n      <td>NaN</td>\n      <td>NaN</td>\n      <td>NaN</td>\n      <td>NaN</td>\n    </tr>\n  </tbody>\n</table>\n<p>545 rows × 6 columns</p>\n</div>"
     },
     "execution_count": 33,
     "metadata": {},
     "output_type": "execute_result"
    }
   ],
   "source": [
    "sales.loc[sales.Product.isna(),]"
   ]
  },
  {
   "cell_type": "markdown",
   "metadata": {
    "pycharm": {
     "name": "#%% md\n"
    }
   },
   "source": [
    "Uklonićemo observacije (redove) sa svim nedostajućim vrednostima"
   ]
  },
  {
   "cell_type": "code",
   "execution_count": 34,
   "metadata": {
    "pycharm": {
     "name": "#%%\n"
    },
    "ExecuteTime": {
     "end_time": "2024-12-07T17:56:36.285432Z",
     "start_time": "2024-12-07T17:56:35.966096Z"
    }
   },
   "outputs": [],
   "source": [
    "sales.dropna(how='all', inplace=True)    "
   ]
  },
  {
   "cell_type": "code",
   "execution_count": 35,
   "metadata": {
    "pycharm": {
     "name": "#%%\n"
    },
    "ExecuteTime": {
     "end_time": "2024-12-07T17:56:36.285897Z",
     "start_time": "2024-12-07T17:56:36.029594Z"
    }
   },
   "outputs": [
    {
     "data": {
      "text/plain": "0"
     },
     "execution_count": 35,
     "metadata": {},
     "output_type": "execute_result"
    }
   ],
   "source": [
    "sales.isna().sum().sum()"
   ]
  },
  {
   "cell_type": "markdown",
   "metadata": {
    "pycharm": {
     "name": "#%% md\n"
    }
   },
   "source": [
    "### Transformacija varijabli *Quantity Ordered* i *Price Each* u numeričke, a *Order Date* u datetime\n",
    "\n",
    "Korisne smernice za ove oblike transformacije varijabli mogu se naći u odgovorima na [ovo pitanje na StackOverflow-u](https://stackoverflow.com/questions/15891038/change-column-type-in-pandas)"
   ]
  },
  {
   "cell_type": "markdown",
   "metadata": {
    "pycharm": {
     "name": "#%% md\n"
    }
   },
   "source": [
    "Prvo ćemo pokušati da transformišemo `Quantity Ordered` u numeričku kolonu"
   ]
  },
  {
   "cell_type": "code",
   "execution_count": 36,
   "metadata": {
    "pycharm": {
     "name": "#%%\n"
    },
    "ExecuteTime": {
     "end_time": "2024-12-07T17:56:45.205858Z",
     "start_time": "2024-12-07T17:56:45.190134Z"
    }
   },
   "outputs": [
    {
     "name": "stdout",
     "output_type": "stream",
     "text": [
      "Unable to parse string \"Quantity Ordered\" at position 254\n"
     ]
    }
   ],
   "source": [
    "try:\n",
    "    sales['Quantity_Ordered'] = pd.to_numeric(sales['Quantity Ordered'])\n",
    "except ValueError as err:\n",
    "    print(err)"
   ]
  },
  {
   "cell_type": "markdown",
   "metadata": {
    "pycharm": {
     "name": "#%% md\n"
    }
   },
   "source": [
    "Pogledaćemo red (observaciju) gde je došlo do greške:"
   ]
  },
  {
   "cell_type": "code",
   "execution_count": 37,
   "metadata": {
    "pycharm": {
     "name": "#%%\n"
    },
    "ExecuteTime": {
     "end_time": "2024-12-07T17:57:01.161946Z",
     "start_time": "2024-12-07T17:57:01.137621Z"
    }
   },
   "outputs": [
    {
     "data": {
      "text/plain": "Order ID                    Order ID\nProduct                      Product\nQuantity Ordered    Quantity Ordered\nPrice Each                Price Each\nOrder Date                Order Date\nPurchase Address    Purchase Address\nName: 254, dtype: object"
     },
     "execution_count": 37,
     "metadata": {},
     "output_type": "execute_result"
    }
   ],
   "source": [
    "sales.iloc[254, ]"
   ]
  },
  {
   "cell_type": "markdown",
   "metadata": {
    "pycharm": {
     "name": "#%% md\n"
    }
   },
   "source": [
    "Red koji je uslovio grešku očigleno sadrži pogrešno unete podatke koji nam nisu potrebni. Tako da ćemo izvršiti konverziju u numerički tip i, pri tome, vrednosti koje ne mogu da se transformišu u numeričke zameniti sa NaN (tj. označiti podatke kao nedostajuće)"
   ]
  },
  {
   "cell_type": "code",
   "execution_count": 38,
   "metadata": {
    "pycharm": {
     "name": "#%%\n"
    },
    "ExecuteTime": {
     "end_time": "2024-12-07T17:57:34.076942Z",
     "start_time": "2024-12-07T17:57:34.072393Z"
    }
   },
   "outputs": [],
   "source": [
    "sales['Quantity_Ordered'] = pd.to_numeric(sales['Quantity Ordered'], errors='coerce')"
   ]
  },
  {
   "cell_type": "markdown",
   "metadata": {
    "pycharm": {
     "name": "#%% md\n"
    }
   },
   "source": [
    "Utvrdićemo broj i procenat uvedenih nedostajućih vrednosti u koloni `Quantity_Ordered`:"
   ]
  },
  {
   "cell_type": "code",
   "execution_count": 39,
   "metadata": {
    "pycharm": {
     "name": "#%%\n"
    },
    "ExecuteTime": {
     "end_time": "2024-12-07T17:57:41.428731Z",
     "start_time": "2024-12-07T17:57:41.412072Z"
    }
   },
   "outputs": [
    {
     "data": {
      "text/plain": "355"
     },
     "execution_count": 39,
     "metadata": {},
     "output_type": "execute_result"
    }
   ],
   "source": [
    "sales.Quantity_Ordered.isna().sum()"
   ]
  },
  {
   "cell_type": "code",
   "execution_count": 40,
   "metadata": {
    "pycharm": {
     "name": "#%%\n"
    },
    "ExecuteTime": {
     "end_time": "2024-12-07T17:57:43.586425Z",
     "start_time": "2024-12-07T17:57:43.569902Z"
    }
   },
   "outputs": [
    {
     "data": {
      "text/plain": "0.0019054775770913288"
     },
     "execution_count": 40,
     "metadata": {},
     "output_type": "execute_result"
    }
   ],
   "source": [
    "# sales.Quantity_Ordered.isna().sum() / sales.shape[0]\n",
    "sales.Quantity_Ordered.isna().mean()"
   ]
  },
  {
   "cell_type": "markdown",
   "metadata": {
    "pycharm": {
     "name": "#%% md\n"
    }
   },
   "source": [
    "Na isti način ćemo transformisati `Price Each` kolonu:"
   ]
  },
  {
   "cell_type": "code",
   "execution_count": 41,
   "outputs": [],
   "source": [
    "sales['Price_Each'] = pd.to_numeric(sales['Price Each'], errors='coerce')"
   ],
   "metadata": {
    "collapsed": false,
    "ExecuteTime": {
     "end_time": "2024-12-07T17:57:47.297362Z",
     "start_time": "2024-12-07T17:57:47.273530Z"
    }
   }
  },
  {
   "cell_type": "code",
   "execution_count": 42,
   "metadata": {
    "pycharm": {
     "name": "#%%\n"
    },
    "ExecuteTime": {
     "end_time": "2024-12-07T17:57:49.044528Z",
     "start_time": "2024-12-07T17:57:49.023992Z"
    }
   },
   "outputs": [
    {
     "data": {
      "text/plain": "355"
     },
     "execution_count": 42,
     "metadata": {},
     "output_type": "execute_result"
    }
   ],
   "source": [
    "sales.Price_Each.isna().sum()"
   ]
  },
  {
   "cell_type": "code",
   "execution_count": 43,
   "metadata": {
    "pycharm": {
     "name": "#%%\n"
    },
    "ExecuteTime": {
     "end_time": "2024-12-07T17:58:02.269134Z",
     "start_time": "2024-12-07T17:58:02.244910Z"
    }
   },
   "outputs": [
    {
     "data": {
      "text/plain": "0.0019054775770913288"
     },
     "execution_count": 43,
     "metadata": {},
     "output_type": "execute_result"
    }
   ],
   "source": [
    "sales.Price_Each.isna().mean()"
   ]
  },
  {
   "cell_type": "markdown",
   "metadata": {
    "pycharm": {
     "name": "#%% md\n"
    }
   },
   "source": [
    "Izbacićemo redove gde su naručena količina ili jedinična cena nepoznati (NaN)"
   ]
  },
  {
   "cell_type": "code",
   "execution_count": 44,
   "metadata": {
    "pycharm": {
     "name": "#%%\n"
    },
    "ExecuteTime": {
     "end_time": "2024-12-07T17:58:06.613352Z",
     "start_time": "2024-12-07T17:58:06.582488Z"
    }
   },
   "outputs": [],
   "source": [
    "sales.dropna(subset=['Price_Each','Quantity_Ordered'], how='any', inplace=True)"
   ]
  },
  {
   "cell_type": "code",
   "execution_count": 45,
   "metadata": {
    "pycharm": {
     "name": "#%%\n"
    },
    "ExecuteTime": {
     "end_time": "2024-12-07T17:58:08.749827Z",
     "start_time": "2024-12-07T17:58:08.743413Z"
    }
   },
   "outputs": [
    {
     "data": {
      "text/plain": "0"
     },
     "execution_count": 45,
     "metadata": {},
     "output_type": "execute_result"
    }
   ],
   "source": [
    "sales.isna().sum().sum()"
   ]
  },
  {
   "cell_type": "markdown",
   "metadata": {
    "pycharm": {
     "name": "#%% md\n"
    }
   },
   "source": [
    "Proverićemo veličinu data frame-a nakon uklanjanja redova sa svim nedostajućim vrednostima:"
   ]
  },
  {
   "cell_type": "code",
   "execution_count": 46,
   "metadata": {
    "pycharm": {
     "name": "#%%\n"
    },
    "ExecuteTime": {
     "end_time": "2024-12-07T17:58:12.905474Z",
     "start_time": "2024-12-07T17:58:12.888516Z"
    }
   },
   "outputs": [
    {
     "data": {
      "text/plain": "(185950, 8)"
     },
     "execution_count": 46,
     "metadata": {},
     "output_type": "execute_result"
    }
   ],
   "source": [
    "sales.shape"
   ]
  },
  {
   "cell_type": "markdown",
   "metadata": {
    "pycharm": {
     "name": "#%% md\n"
    }
   },
   "source": [
    "Konačno, transformisaćemo `Order Date` u datetime tip"
   ]
  },
  {
   "cell_type": "code",
   "execution_count": 47,
   "outputs": [
    {
     "data": {
      "text/plain": "12785     12/09/19 21:04\n53554     02/08/19 19:46\n15506     12/22/19 11:28\n115653    11/20/19 22:32\n150767    09/20/19 20:09\n175642    06/04/19 19:53\n97216     05/20/19 20:45\n4563      12/31/19 12:32\n37110     04/05/19 16:42\n149479    09/30/19 06:49\nName: Order Date, dtype: object"
     },
     "execution_count": 47,
     "metadata": {},
     "output_type": "execute_result"
    }
   ],
   "source": [
    "sales['Order Date'].sample(10)"
   ],
   "metadata": {
    "collapsed": false,
    "ExecuteTime": {
     "end_time": "2024-12-07T17:58:15.457589Z",
     "start_time": "2024-12-07T17:58:15.444647Z"
    }
   }
  },
  {
   "cell_type": "code",
   "execution_count": 48,
   "outputs": [],
   "source": [
    "sales['Order_Date'] = pd.to_datetime(sales['Order Date'], errors='coerce', format=\"%m/%d/%y %H:%M\")"
   ],
   "metadata": {
    "collapsed": false,
    "ExecuteTime": {
     "end_time": "2024-12-07T17:58:19.360570Z",
     "start_time": "2024-12-07T17:58:19.358387Z"
    }
   }
  },
  {
   "cell_type": "code",
   "execution_count": 49,
   "outputs": [
    {
     "data": {
      "text/plain": "            Order Date          Order_Date\n74228   08/27/19 21:36 2019-08-27 21:36:00\n12069   12/02/19 18:56 2019-12-02 18:56:00\n146737  01/18/19 17:28 2019-01-18 17:28:00\n47811   02/13/19 02:03 2019-02-13 02:03:00\n123085  10/08/19 10:14 2019-10-08 10:14:00\n173409  06/10/19 10:17 2019-06-10 10:17:00\n92157   05/27/19 23:18 2019-05-27 23:18:00\n31171   04/12/19 10:54 2019-04-12 10:54:00\n60720   03/14/19 08:19 2019-03-14 08:19:00\n77544   08/09/19 21:41 2019-08-09 21:41:00",
      "text/html": "<div>\n<style scoped>\n    .dataframe tbody tr th:only-of-type {\n        vertical-align: middle;\n    }\n\n    .dataframe tbody tr th {\n        vertical-align: top;\n    }\n\n    .dataframe thead th {\n        text-align: right;\n    }\n</style>\n<table border=\"1\" class=\"dataframe\">\n  <thead>\n    <tr style=\"text-align: right;\">\n      <th></th>\n      <th>Order Date</th>\n      <th>Order_Date</th>\n    </tr>\n  </thead>\n  <tbody>\n    <tr>\n      <th>74228</th>\n      <td>08/27/19 21:36</td>\n      <td>2019-08-27 21:36:00</td>\n    </tr>\n    <tr>\n      <th>12069</th>\n      <td>12/02/19 18:56</td>\n      <td>2019-12-02 18:56:00</td>\n    </tr>\n    <tr>\n      <th>146737</th>\n      <td>01/18/19 17:28</td>\n      <td>2019-01-18 17:28:00</td>\n    </tr>\n    <tr>\n      <th>47811</th>\n      <td>02/13/19 02:03</td>\n      <td>2019-02-13 02:03:00</td>\n    </tr>\n    <tr>\n      <th>123085</th>\n      <td>10/08/19 10:14</td>\n      <td>2019-10-08 10:14:00</td>\n    </tr>\n    <tr>\n      <th>173409</th>\n      <td>06/10/19 10:17</td>\n      <td>2019-06-10 10:17:00</td>\n    </tr>\n    <tr>\n      <th>92157</th>\n      <td>05/27/19 23:18</td>\n      <td>2019-05-27 23:18:00</td>\n    </tr>\n    <tr>\n      <th>31171</th>\n      <td>04/12/19 10:54</td>\n      <td>2019-04-12 10:54:00</td>\n    </tr>\n    <tr>\n      <th>60720</th>\n      <td>03/14/19 08:19</td>\n      <td>2019-03-14 08:19:00</td>\n    </tr>\n    <tr>\n      <th>77544</th>\n      <td>08/09/19 21:41</td>\n      <td>2019-08-09 21:41:00</td>\n    </tr>\n  </tbody>\n</table>\n</div>"
     },
     "execution_count": 49,
     "metadata": {},
     "output_type": "execute_result"
    }
   ],
   "source": [
    "sales[['Order Date', 'Order_Date']].sample(10)"
   ],
   "metadata": {
    "collapsed": false,
    "ExecuteTime": {
     "end_time": "2024-12-07T17:58:20.824886Z",
     "start_time": "2024-12-07T17:58:20.809785Z"
    }
   }
  },
  {
   "cell_type": "markdown",
   "metadata": {
    "pycharm": {
     "name": "#%% md\n"
    }
   },
   "source": [
    "Nakon ovih transformacija, proverićemo kako sad izgledaju tipovi podataka u data frame-u:"
   ]
  },
  {
   "cell_type": "code",
   "execution_count": 50,
   "metadata": {
    "pycharm": {
     "name": "#%%\n"
    },
    "ExecuteTime": {
     "end_time": "2024-12-07T17:58:24.033713Z",
     "start_time": "2024-12-07T17:58:24.022900Z"
    }
   },
   "outputs": [
    {
     "name": "stdout",
     "output_type": "stream",
     "text": [
      "<class 'pandas.core.frame.DataFrame'>\n",
      "Index: 185950 entries, 0 to 186849\n",
      "Data columns (total 9 columns):\n",
      " #   Column            Non-Null Count   Dtype         \n",
      "---  ------            --------------   -----         \n",
      " 0   Order ID          185950 non-null  object        \n",
      " 1   Product           185950 non-null  object        \n",
      " 2   Quantity Ordered  185950 non-null  object        \n",
      " 3   Price Each        185950 non-null  object        \n",
      " 4   Order Date        185950 non-null  object        \n",
      " 5   Purchase Address  185950 non-null  object        \n",
      " 6   Quantity_Ordered  185950 non-null  float64       \n",
      " 7   Price_Each        185950 non-null  float64       \n",
      " 8   Order_Date        185950 non-null  datetime64[ns]\n",
      "dtypes: datetime64[ns](1), float64(2), object(6)\n",
      "memory usage: 14.2+ MB\n"
     ]
    }
   ],
   "source": [
    "sales.info()"
   ]
  },
  {
   "cell_type": "markdown",
   "source": [
    "Uklonićemo kolone koje više nisu potrebne:"
   ],
   "metadata": {
    "collapsed": false
   }
  },
  {
   "cell_type": "code",
   "execution_count": 51,
   "outputs": [],
   "source": [
    "sales.drop(columns=['Order Date','Price Each','Quantity Ordered'], inplace=True)"
   ],
   "metadata": {
    "collapsed": false,
    "ExecuteTime": {
     "end_time": "2024-12-07T17:58:28.611776Z",
     "start_time": "2024-12-07T17:58:28.584847Z"
    }
   }
  },
  {
   "cell_type": "code",
   "execution_count": 52,
   "outputs": [
    {
     "data": {
      "text/plain": "['Order ID',\n 'Product',\n 'Purchase Address',\n 'Quantity_Ordered',\n 'Price_Each',\n 'Order_Date']"
     },
     "execution_count": 52,
     "metadata": {},
     "output_type": "execute_result"
    }
   ],
   "source": [
    "sales.columns.tolist()"
   ],
   "metadata": {
    "collapsed": false,
    "ExecuteTime": {
     "end_time": "2024-12-07T17:58:30.266247Z",
     "start_time": "2024-12-07T17:58:30.247324Z"
    }
   }
  },
  {
   "cell_type": "markdown",
   "metadata": {
    "pycharm": {
     "name": "#%% md\n"
    }
   },
   "source": [
    "### Dodavanje *Purchase_City* kolone\n",
    "\n",
    "Sad ćemo videti kako možemo da napravimo novu kolonu od postojeće.\n",
    "\n",
    "Pošto će nam kasnije biti potrebno da uporedimo prodaju po gradovima, dodaćemo kolonu sa nazivom grada u kome je porudžbina napravljena. Nakon imena grada treba da stoji oznaka države, data u zagradi (npr. „Atlanta (GA)“), da bi se omogućilo razlikovanje gradova sa istim nazivima.   "
   ]
  },
  {
   "cell_type": "markdown",
   "metadata": {
    "pycharm": {
     "name": "#%% md\n"
    }
   },
   "source": [
    "Uzećemo uzorak vrednosti kolone `Purchase Address` kako bismo se upoznali sa formatom u kome su adrese zapisane:"
   ]
  },
  {
   "cell_type": "code",
   "execution_count": 53,
   "metadata": {
    "pycharm": {
     "name": "#%%\n"
    },
    "ExecuteTime": {
     "end_time": "2024-12-07T17:58:33.353635Z",
     "start_time": "2024-12-07T17:58:33.338230Z"
    }
   },
   "outputs": [
    {
     "data": {
      "text/plain": "116554             679 West St, Boston, MA 02215\n54750               471 7th St, Boston, MA 02215\n50300      902 Ridge St, New York City, NY 10001\n124950            921 Cedar St, Dallas, TX 75001\n93466        99 Cherry St, Los Angeles, CA 90001\n171700             517 14th St, Dallas, TX 75001\n12489            250 Wilson St, Dallas, TX 75001\n156151           249 12th St, Portland, ME 04101\n70949          235 Cherry St, Portland, OR 97035\n170298    839 Forest St, San Francisco, CA 94016\nName: Purchase Address, dtype: object"
     },
     "execution_count": 53,
     "metadata": {},
     "output_type": "execute_result"
    }
   ],
   "source": [
    "sales['Purchase Address'].sample(10)"
   ]
  },
  {
   "cell_type": "markdown",
   "metadata": {
    "pycharm": {
     "name": "#%% md\n"
    }
   },
   "source": [
    "Prvo ćemo kreirati funkciju koja izdvaja grad (i oznaku države) iz kolone `Purchase Address`: "
   ]
  },
  {
   "cell_type": "code",
   "execution_count": 54,
   "metadata": {
    "pycharm": {
     "name": "#%%\n"
    },
    "ExecuteTime": {
     "end_time": "2024-12-07T17:58:36.977210Z",
     "start_time": "2024-12-07T17:58:36.958651Z"
    }
   },
   "outputs": [],
   "source": [
    "def get_city(address):\n",
    "    _, city, state_zip = address.split(',')\n",
    "    state, _ = state_zip.split()\n",
    "    return f\"{city.strip()} ({state})\""
   ]
  },
  {
   "cell_type": "code",
   "execution_count": 55,
   "outputs": [
    {
     "data": {
      "text/plain": "'New York City (NY)'"
     },
     "execution_count": 55,
     "metadata": {},
     "output_type": "execute_result"
    }
   ],
   "source": [
    "get_city(sales['Purchase Address'][0])"
   ],
   "metadata": {
    "collapsed": false,
    "ExecuteTime": {
     "end_time": "2024-12-07T17:58:38.708200Z",
     "start_time": "2024-12-07T17:58:38.689915Z"
    }
   }
  },
  {
   "cell_type": "markdown",
   "metadata": {
    "pycharm": {
     "name": "#%% md\n"
    }
   },
   "source": [
    "Zatim ćemo koristeći `apply` metodu, primeniti `get_city_and_state()` f. na svaku vrednost serije `Purchase Address`. Ali, prvo ćemo isprobati na uzorku adresa:"
   ]
  },
  {
   "cell_type": "code",
   "execution_count": 56,
   "metadata": {
    "pycharm": {
     "name": "#%%\n"
    },
    "ExecuteTime": {
     "end_time": "2024-12-07T17:58:41.835312Z",
     "start_time": "2024-12-07T17:58:41.821661Z"
    }
   },
   "outputs": [
    {
     "data": {
      "text/plain": "75485            Boston (MA)\n95100     San Francisco (CA)\n131948           Boston (MA)\n20361            Boston (MA)\n28179            Dallas (TX)\n141041          Seattle (WA)\n43259     New York City (NY)\n12295            Austin (TX)\n77323     New York City (NY)\n57200     New York City (NY)\nName: Purchase Address, dtype: object"
     },
     "execution_count": 56,
     "metadata": {},
     "output_type": "execute_result"
    }
   ],
   "source": [
    "sales['Purchase Address'].sample(10).apply(get_city)"
   ]
  },
  {
   "cell_type": "markdown",
   "metadata": {
    "pycharm": {
     "name": "#%% md\n"
    }
   },
   "source": [
    "Sad možemo primenti funkciju na sve vrednosti kolone `Purchase Address`, kako bi kreirali novu kolonu - `Purchase_City`"
   ]
  },
  {
   "cell_type": "code",
   "execution_count": 57,
   "metadata": {
    "pycharm": {
     "name": "#%%\n"
    },
    "ExecuteTime": {
     "end_time": "2024-12-07T17:58:44.736850Z",
     "start_time": "2024-12-07T17:58:44.713688Z"
    }
   },
   "outputs": [],
   "source": [
    "sales['Purchase_City'] = sales['Purchase Address'].apply(get_city)"
   ]
  },
  {
   "cell_type": "code",
   "execution_count": 58,
   "metadata": {
    "pycharm": {
     "name": "#%%\n"
    },
    "ExecuteTime": {
     "end_time": "2024-12-07T17:58:46.406325Z",
     "start_time": "2024-12-07T17:58:46.392438Z"
    }
   },
   "outputs": [
    {
     "data": {
      "text/plain": "                               Purchase Address       Purchase_City\n181050             239 2nd St, Dallas, TX 75001         Dallas (TX)\n119332  280 Johnson St, San Francisco, CA 94016  San Francisco (CA)\n30128           184 Lake St, Portland, ME 04101       Portland (ME)\n92489       600 5th St, San Francisco, CA 94016  San Francisco (CA)\n104285   646 Wilson St, New York City, NY 10001  New York City (NY)\n161121            694 West St, Austin, TX 73301         Austin (TX)\n90383    994 Center St, San Francisco, CA 94016  San Francisco (CA)\n170943             513 Elm St, Dallas, TX 75001         Dallas (TX)\n175106     660 Center St, Los Angeles, CA 90001    Los Angeles (CA)\n93706      317 Willow St, Los Angeles, CA 90001    Los Angeles (CA)\n82286            341 Lake St, Atlanta, GA 30301        Atlanta (GA)\n54801            770 Maple St, Boston, MA 02215         Boston (MA)\n67208           409 South St, Seattle, WA 98101        Seattle (WA)\n62347           290 Church St, Austin, TX 73301         Austin (TX)\n108178     480 Willow St, Los Angeles, CA 90001    Los Angeles (CA)",
      "text/html": "<div>\n<style scoped>\n    .dataframe tbody tr th:only-of-type {\n        vertical-align: middle;\n    }\n\n    .dataframe tbody tr th {\n        vertical-align: top;\n    }\n\n    .dataframe thead th {\n        text-align: right;\n    }\n</style>\n<table border=\"1\" class=\"dataframe\">\n  <thead>\n    <tr style=\"text-align: right;\">\n      <th></th>\n      <th>Purchase Address</th>\n      <th>Purchase_City</th>\n    </tr>\n  </thead>\n  <tbody>\n    <tr>\n      <th>181050</th>\n      <td>239 2nd St, Dallas, TX 75001</td>\n      <td>Dallas (TX)</td>\n    </tr>\n    <tr>\n      <th>119332</th>\n      <td>280 Johnson St, San Francisco, CA 94016</td>\n      <td>San Francisco (CA)</td>\n    </tr>\n    <tr>\n      <th>30128</th>\n      <td>184 Lake St, Portland, ME 04101</td>\n      <td>Portland (ME)</td>\n    </tr>\n    <tr>\n      <th>92489</th>\n      <td>600 5th St, San Francisco, CA 94016</td>\n      <td>San Francisco (CA)</td>\n    </tr>\n    <tr>\n      <th>104285</th>\n      <td>646 Wilson St, New York City, NY 10001</td>\n      <td>New York City (NY)</td>\n    </tr>\n    <tr>\n      <th>161121</th>\n      <td>694 West St, Austin, TX 73301</td>\n      <td>Austin (TX)</td>\n    </tr>\n    <tr>\n      <th>90383</th>\n      <td>994 Center St, San Francisco, CA 94016</td>\n      <td>San Francisco (CA)</td>\n    </tr>\n    <tr>\n      <th>170943</th>\n      <td>513 Elm St, Dallas, TX 75001</td>\n      <td>Dallas (TX)</td>\n    </tr>\n    <tr>\n      <th>175106</th>\n      <td>660 Center St, Los Angeles, CA 90001</td>\n      <td>Los Angeles (CA)</td>\n    </tr>\n    <tr>\n      <th>93706</th>\n      <td>317 Willow St, Los Angeles, CA 90001</td>\n      <td>Los Angeles (CA)</td>\n    </tr>\n    <tr>\n      <th>82286</th>\n      <td>341 Lake St, Atlanta, GA 30301</td>\n      <td>Atlanta (GA)</td>\n    </tr>\n    <tr>\n      <th>54801</th>\n      <td>770 Maple St, Boston, MA 02215</td>\n      <td>Boston (MA)</td>\n    </tr>\n    <tr>\n      <th>67208</th>\n      <td>409 South St, Seattle, WA 98101</td>\n      <td>Seattle (WA)</td>\n    </tr>\n    <tr>\n      <th>62347</th>\n      <td>290 Church St, Austin, TX 73301</td>\n      <td>Austin (TX)</td>\n    </tr>\n    <tr>\n      <th>108178</th>\n      <td>480 Willow St, Los Angeles, CA 90001</td>\n      <td>Los Angeles (CA)</td>\n    </tr>\n  </tbody>\n</table>\n</div>"
     },
     "execution_count": 58,
     "metadata": {},
     "output_type": "execute_result"
    }
   ],
   "source": [
    "sales[['Purchase Address', 'Purchase_City']].sample(15)"
   ]
  },
  {
   "cell_type": "markdown",
   "source": [
    "Sačuvaćemo transformisani dataset u fajl:"
   ],
   "metadata": {
    "collapsed": false
   }
  },
  {
   "cell_type": "code",
   "execution_count": 60,
   "outputs": [],
   "source": [
    "process_data_dir = Path.cwd() / 'data' / 'processed_data'\n",
    "process_data_dir.mkdir(parents=True, exist_ok=True)"
   ],
   "metadata": {
    "collapsed": false,
    "ExecuteTime": {
     "end_time": "2024-12-07T17:59:20.741598Z",
     "start_time": "2024-12-07T17:59:20.720067Z"
    }
   }
  },
  {
   "cell_type": "code",
   "execution_count": 61,
   "outputs": [],
   "source": [
    "sales.to_csv(process_data_dir / 'sales_data_cleaned.csv', index=False)"
   ],
   "metadata": {
    "collapsed": false,
    "ExecuteTime": {
     "end_time": "2024-12-07T17:59:23.160243Z",
     "start_time": "2024-12-07T17:59:22.457650Z"
    }
   }
  },
  {
   "cell_type": "markdown",
   "metadata": {
    "pycharm": {
     "name": "#%% md\n"
    }
   },
   "source": [
    "## Eksploratorna analiza podataka\n",
    "\n",
    "Sada ćemo pokušati da odgovorimo na neka pitanja vezana za ostvarenu prodaju u 2019. godini, kroz eksploratornu analizu `sales` dataseta"
   ]
  },
  {
   "cell_type": "markdown",
   "metadata": {
    "pycharm": {
     "name": "#%% md\n"
    }
   },
   "source": [
    "### Zadatak 1. Koji je bio najbolji mesec za prodaju? Kolika zarada je ostvarena tog meseca?\n",
    "\n",
    "Da bismo odgovorili na ovo pitanje, potrebno je da:\n",
    "- izračunamo ukupan prihod po porudžbini\n",
    "- izdvojimo mesec iz datuma porudžbine, tako da možemo grupisati porudžbine na mesečnoj osnovi\n",
    "- izračunamo ukupan prihod na mesečnom nivou"
   ]
  },
  {
   "cell_type": "markdown",
   "metadata": {
    "pycharm": {
     "name": "#%% md\n"
    }
   },
   "source": [
    "**Korak 1**: Izračunavanje ukupnog prihoda po porudžbini"
   ]
  },
  {
   "cell_type": "code",
   "execution_count": null,
   "metadata": {
    "pycharm": {
     "name": "#%%\n"
    }
   },
   "outputs": [],
   "source": []
  },
  {
   "cell_type": "markdown",
   "metadata": {
    "pycharm": {
     "name": "#%% md\n"
    }
   },
   "source": [
    "**Korak 2**: Izdvajanje meseca iz datuma porudžbine (`Order_Date`)\n",
    "\n",
    "S obzirom da je `Order_Date` pandas serija tipa datetime, možemo koristiti `dt` da bismo dobili pristup svakoj vrednosti u seriji kao datetime objektu. \n",
    "\n",
    "Kad imamo pristup datumu porudžbine kao datetime objektu, možemo uzeti bilo koji element datuma (godina, mesec, dan, itd.) i vremena porudžbine kroz odgovarajuća polja objekta."
   ]
  },
  {
   "cell_type": "code",
   "execution_count": null,
   "metadata": {
    "pycharm": {
     "name": "#%%\n"
    }
   },
   "outputs": [],
   "source": []
  },
  {
   "cell_type": "code",
   "execution_count": null,
   "metadata": {
    "pycharm": {
     "name": "#%%\n"
    }
   },
   "outputs": [],
   "source": []
  },
  {
   "cell_type": "markdown",
   "metadata": {
    "pycharm": {
     "name": "#%% md\n"
    }
   },
   "source": [
    "**Korak 3**: Izračunavanje ukupnog prihoda za svaki mesec"
   ]
  },
  {
   "cell_type": "code",
   "execution_count": null,
   "metadata": {
    "pycharm": {
     "name": "#%%\n"
    }
   },
   "outputs": [],
   "source": []
  },
  {
   "cell_type": "markdown",
   "metadata": {
    "pycharm": {
     "name": "#%% md\n"
    }
   },
   "source": [
    "Sortiranje rezultata u opdajućem redosledu ukupnog mesečnog prihoda"
   ]
  },
  {
   "cell_type": "code",
   "execution_count": null,
   "metadata": {
    "pycharm": {
     "name": "#%%\n"
    }
   },
   "outputs": [],
   "source": []
  },
  {
   "cell_type": "markdown",
   "metadata": {
    "pycharm": {
     "name": "#%% md\n"
    }
   },
   "source": [
    "Možemo predstaviti i sagledati mesečne prihode na (bar) plotu, pošto vizuelno predstavljanje podataka često olakšava razumevanje trendova koji mogu biti prisutni u podacima.\n",
    "\n",
    "Za kreiranje plota, koristićemo Matplotlib bibliotetku, čiju dokumentaciju možete naći [ovde](https://matplotlib.org/3.5.3/api/_as_gen/matplotlib.pyplot.html), dok [ovaj primer](https://matplotlib.org/stable/gallery/lines_bars_and_markers/bar_colors.html#sphx-glr-gallery-lines-bars-and-markers-bar-colors-py) može poslužiti kao dobra polazna osnova za konkretni zadatak vizuelizacije koji imamo.\n",
    "\n",
    "Napomena: Na [ovom GitHub repozitorijumu](https://github.com/matplotlib/cheatsheets) možete naći dobro urađene cheat sheets i savete za korišćenje Mathplotlib bliblioteke."
   ]
  },
  {
   "cell_type": "code",
   "execution_count": null,
   "metadata": {
    "pycharm": {
     "name": "#%%\n"
    }
   },
   "outputs": [],
   "source": []
  },
  {
   "cell_type": "markdown",
   "metadata": {
    "pycharm": {
     "name": "#%% md\n"
    }
   },
   "source": [
    "### Zadatak 2. Iz kog grada je naručeno najviše proizvoda?\n",
    "\n",
    "Za potrebe ovog zadatka, grupisaćemo porudžbine prema gradu iz koga dolaze:"
   ]
  },
  {
   "cell_type": "code",
   "execution_count": null,
   "metadata": {
    "pycharm": {
     "name": "#%%\n"
    }
   },
   "outputs": [],
   "source": []
  },
  {
   "cell_type": "markdown",
   "metadata": {
    "pycharm": {
     "name": "#%% md\n"
    }
   },
   "source": [
    "Sortiraćemo rezultate u opadajućem redosledu naručene količine:"
   ]
  },
  {
   "cell_type": "code",
   "execution_count": null,
   "metadata": {
    "pycharm": {
     "name": "#%%\n"
    }
   },
   "outputs": [],
   "source": []
  },
  {
   "cell_type": "markdown",
   "metadata": {
    "pycharm": {
     "name": "#%% md\n"
    }
   },
   "source": [
    "Na kraju, prikazaćemo rezultate vizuelno primenom bar plota.\n",
    "\n",
    "Napomena: za fina podešavanja prikaza plota, brojne korisne metode se mogu naći u [ovom delu](https://matplotlib.org/stable/api/axes_api.html) Matplotlib dokumentacije"
   ]
  },
  {
   "cell_type": "code",
   "execution_count": null,
   "metadata": {
    "pycharm": {
     "name": "#%%\n"
    }
   },
   "outputs": [],
   "source": []
  },
  {
   "cell_type": "markdown",
   "source": [
    "#### Zadatak Viz 1: Treemap plot\n",
    "\n",
    "Prikazati ukupne naručene količine na nivou pojedinačnih gradova i država primenom tzv. [*treeemap* plota](https://python-graph-gallery.com/treemap/) koji se može jednostavno kreirati primenom *[squarify](https://python-graph-gallery.com/590-advanced-treemap/)* biblioteke."
   ],
   "metadata": {
    "collapsed": false
   }
  },
  {
   "cell_type": "code",
   "execution_count": null,
   "outputs": [],
   "source": [],
   "metadata": {
    "collapsed": false
   }
  },
  {
   "cell_type": "markdown",
   "metadata": {
    "pycharm": {
     "name": "#%% md\n"
    }
   },
   "source": [
    "### Zadatak 3. Kada, tokom dana, klijenti imaju tendenciju da naprave najvrednije porudžbine?\n",
    "\n",
    "Da bismo odgovorili na ovo pitanje, potrebno je da izdvojimo sate iz `Order_Date` kolone i utvrdimo prosečnu ukupnu cenu porudžbine za svaki sat u toku dana"
   ]
  },
  {
   "cell_type": "markdown",
   "metadata": {
    "pycharm": {
     "name": "#%% md\n"
    }
   },
   "source": [
    "**Korak 1**: Kreiranje 'Order_Hour' kolone"
   ]
  },
  {
   "cell_type": "code",
   "execution_count": null,
   "metadata": {
    "pycharm": {
     "name": "#%%\n"
    }
   },
   "outputs": [],
   "source": []
  },
  {
   "cell_type": "code",
   "execution_count": null,
   "metadata": {
    "pycharm": {
     "name": "#%%\n"
    }
   },
   "outputs": [],
   "source": []
  },
  {
   "cell_type": "markdown",
   "metadata": {
    "pycharm": {
     "name": "#%% md\n"
    }
   },
   "source": [
    "**Korak 2**: Grupisanje narudžbina na osnovu `Order_Hour` i izračuvanje prosečne vrednosti `Total_Price` varijable za svaku grupu"
   ]
  },
  {
   "cell_type": "code",
   "execution_count": null,
   "metadata": {
    "pycharm": {
     "name": "#%%\n"
    }
   },
   "outputs": [],
   "source": []
  },
  {
   "cell_type": "markdown",
   "metadata": {
    "pycharm": {
     "name": "#%% md\n"
    }
   },
   "source": [
    "Sortirati rezultate u opadajućem redosledu prosečne ukupne vrednosti narudžbina"
   ]
  },
  {
   "cell_type": "code",
   "execution_count": null,
   "metadata": {
    "pycharm": {
     "name": "#%%\n"
    }
   },
   "outputs": [],
   "source": []
  },
  {
   "cell_type": "markdown",
   "metadata": {
    "pycharm": {
     "name": "#%% md\n"
    }
   },
   "source": [
    "Prikaz rezultata u formi linijskog plota"
   ]
  },
  {
   "cell_type": "code",
   "execution_count": null,
   "metadata": {
    "pycharm": {
     "name": "#%%\n"
    }
   },
   "outputs": [],
   "source": []
  },
  {
   "cell_type": "markdown",
   "metadata": {
    "pycharm": {
     "name": "#%% md\n"
    }
   },
   "source": [
    "### Zadatak 4. Koji proizvodi su se najviše prodavali tokom 2019. god? Koji proizvodi su najviše doprineli ukupnom prihodu?\n",
    "\n",
    "Prvo ćemo utvrditi koliko različitih proizvoda postoji i koliko često su bili naručeni"
   ]
  },
  {
   "cell_type": "code",
   "execution_count": null,
   "metadata": {
    "pycharm": {
     "name": "#%%\n"
    }
   },
   "outputs": [],
   "source": []
  },
  {
   "cell_type": "code",
   "execution_count": null,
   "metadata": {
    "pycharm": {
     "name": "#%%\n"
    }
   },
   "outputs": [],
   "source": []
  },
  {
   "cell_type": "markdown",
   "metadata": {
    "pycharm": {
     "name": "#%% md\n"
    }
   },
   "source": [
    "Gornja pandas serija nam daje broj porudžbina u kojima se pojavio proizvod, ali ne govori nam o količinama koje su naručene.\n",
    "\n",
    "Potrebno je da za svaki proizvod, uzmemo ukupnu naručenu količinu i ukupnu cenu za sve porudžbine koje se odnose na taj proizvod:"
   ]
  },
  {
   "cell_type": "code",
   "execution_count": null,
   "metadata": {
    "pycharm": {
     "name": "#%%\n"
    }
   },
   "outputs": [],
   "source": []
  },
  {
   "cell_type": "markdown",
   "metadata": {
    "pycharm": {
     "name": "#%% md\n"
    }
   },
   "source": [
    "Odredićemo top 5 proizvoda po ostvarenom obimu prodaje:"
   ]
  },
  {
   "cell_type": "code",
   "execution_count": null,
   "metadata": {
    "pycharm": {
     "name": "#%%\n"
    }
   },
   "outputs": [],
   "source": []
  },
  {
   "cell_type": "markdown",
   "metadata": {
    "pycharm": {
     "name": "#%% md\n"
    }
   },
   "source": [
    "Takođe, top 5 proizvoda po ostvarenom prihodu:"
   ]
  },
  {
   "cell_type": "code",
   "execution_count": null,
   "metadata": {
    "pycharm": {
     "name": "#%%\n"
    }
   },
   "outputs": [],
   "source": []
  },
  {
   "cell_type": "markdown",
   "metadata": {
    "pycharm": {
     "name": "#%% md\n"
    }
   },
   "source": [
    "Predstavićemo ove rezultate i vizuelno. Konkretno, napravićemo dve horizontalna bar plota, jedan pored drugog, pri čemu će prvi prikazivati ukupan prihod po proizvodu, a drugi prodatu količinu proizvoda. Sortiraćemo plotove na osnovu ukupnog prihoda, tako da proizvodi sa najvećim prihodom budu prikazani pri vrhu plota.\n",
    "\n",
    "Smernice za kreiranje horizontalnog bar plota možete naći, na primer, u [ovom primeru](https://matplotlib.org/stable/gallery/lines_bars_and_markers/barh.html) iz Mathplotlib dokumentacije."
   ]
  },
  {
   "cell_type": "code",
   "execution_count": null,
   "metadata": {
    "pycharm": {
     "name": "#%%\n"
    }
   },
   "outputs": [],
   "source": []
  },
  {
   "cell_type": "markdown",
   "source": [
    "#### Zadatak Viz_2: Linijski plot sa dve skale\n",
    "\n",
    "Izračunate vrednosti za ukupnu prodaju i ukupnu ostvarenu zaradu po proizvodu možemo predstaviti i na jednom plotu, koristeći različite skale za vrednosti predstavljene na y-osi. Na primer, skala na levoj strani plota da predstavlja ostvareni prihod po proizvodu, a skala na desnoj strani da prikazuje ukupan ostvaren obim prodaje po proizvodu.  \n",
    "\n",
    "[Ovaj primer](https://matplotlib.org/stable/gallery/subplots_axes_and_figures/two_scales.html#sphx-glr-gallery-subplots-axes-and-figures-two-scales-py) iz matplotlib dokumentacije pokazuje kako izgleda i kako se može kreirati linijski plot sa dve različite skale na y-osi. \n",
    "\n",
    "Po uzoru na dati primer, potrebno je kreirati plot za tekući zadatak, odnosno prikaz izračunatih vrednosti za ukupnu prodaju i ukupnu ostvarenu zaradu po proizvodu "
   ],
   "metadata": {
    "collapsed": false
   }
  },
  {
   "cell_type": "code",
   "execution_count": null,
   "outputs": [],
   "source": [],
   "metadata": {
    "collapsed": false
   }
  },
  {
   "cell_type": "markdown",
   "metadata": {
    "pycharm": {
     "name": "#%% md\n"
    }
   },
   "source": [
    "### Zadatak 5. Pregled ostvarenog prihoda od prodaje po proizvodima i gradovima"
   ]
  },
  {
   "cell_type": "markdown",
   "metadata": {
    "pycharm": {
     "name": "#%% md\n"
    }
   },
   "source": [
    "Podatke možemo grupisati na osnovu više od jednog atributa (kolone). U ovom slučaju, izvršićemo grupisanje na osnovu proizvoda i grada iz koga je porudžbina stigla, i izračunati ukupan prihod za svaki proizvod u svakom gradu:"
   ]
  },
  {
   "cell_type": "code",
   "execution_count": null,
   "metadata": {
    "pycharm": {
     "name": "#%%\n"
    }
   },
   "outputs": [],
   "source": []
  },
  {
   "cell_type": "markdown",
   "metadata": {
    "pycharm": {
     "name": "#%% md\n"
    }
   },
   "source": [
    "Primetite da smo kao rezultat dobili pandas seriju sa dva indeksa - `Product` i `Purchase_City`:"
   ]
  },
  {
   "cell_type": "code",
   "execution_count": null,
   "metadata": {
    "pycharm": {
     "name": "#%%\n"
    }
   },
   "outputs": [],
   "source": []
  },
  {
   "cell_type": "code",
   "execution_count": null,
   "metadata": {
    "pycharm": {
     "name": "#%%\n"
    }
   },
   "outputs": [],
   "source": []
  },
  {
   "cell_type": "markdown",
   "metadata": {
    "pycharm": {
     "name": "#%% md\n"
    }
   },
   "source": [
    "Ovakvu seriju možemo transformisati u data frame uz pomoć `unstack()` metode:"
   ]
  },
  {
   "cell_type": "code",
   "execution_count": null,
   "metadata": {
    "pycharm": {
     "name": "#%%\n"
    }
   },
   "outputs": [],
   "source": []
  },
  {
   "cell_type": "code",
   "execution_count": null,
   "metadata": {
    "pycharm": {
     "name": "#%%\n"
    }
   },
   "outputs": [],
   "source": []
  },
  {
   "cell_type": "code",
   "execution_count": null,
   "outputs": [],
   "source": [],
   "metadata": {
    "collapsed": false
   }
  },
  {
   "cell_type": "markdown",
   "metadata": {
    "pycharm": {
     "name": "#%% md\n"
    }
   },
   "source": [
    "S obzirom da je ovakav prikaz ostvarene prodaje vrlo nepregledan, predstavićemo ga vizuelno, koristeći `heatmap`. \n",
    "\n",
    "Korisne smernice za kreiranje heatmap-e date su, na primer, [ovde](https://python-charts.com/correlation/heatmap-matplotlib/).\n",
    "\n",
    "Na [ovoj stranici](https://matplotlib.org/stable/users/explain/colors/colormaps.html) Matplotlib dokumentacije možete naći pregled predefinisanih kolor mapa."
   ]
  },
  {
   "cell_type": "code",
   "execution_count": null,
   "metadata": {
    "pycharm": {
     "name": "#%%\n"
    }
   },
   "outputs": [],
   "source": []
  },
  {
   "cell_type": "markdown",
   "source": [
    "#### Zadatak Viz_3: Heatmap sa dodatim numeričkim vrednostima\n",
    "\n",
    "Unaprediti prethodni heatmap plot, time što ćete u svakoj ćeliji heatmap-e prikazati ukupan ostvareni prihod od prodaje za svaku kombinaciju grad - proizvod, izražen u milionima USA dolara  \n",
    "\n",
    "Dodatne smernice za kreiranje heatmap-e, uključujući neke složenije primere, date su na [ovoj stranici](https://matplotlib.org/stable/gallery/images_contours_and_fields/image_annotated_heatmap.html#sphx-glr-gallery-images-contours-and-fields-image-annotated-heatmap-py) matplotlib dokumentacije."
   ],
   "metadata": {
    "collapsed": false
   }
  },
  {
   "cell_type": "code",
   "execution_count": null,
   "outputs": [],
   "source": [],
   "metadata": {
    "collapsed": false
   }
  },
  {
   "cell_type": "markdown",
   "source": [
    "#### Zadatak Viz_4: Prikazati uporedo mesečnu kupovinu za države sa najvišim i najnižim ostvarenim ukupnim kupovinama u 2019. godini\n",
    "\n",
    "Prikaz bi trebalo da bude u obliku dva bar plota (po jedan za svaku državu), predstavljena u jednom redu i dve kolone"
   ],
   "metadata": {
    "collapsed": false
   }
  },
  {
   "cell_type": "markdown",
   "source": [
    "Potrebno je prvo kreirati novu kolonu koja predstavlja državu iz koje je porudžbina stigla"
   ],
   "metadata": {
    "collapsed": false
   }
  },
  {
   "cell_type": "code",
   "execution_count": null,
   "outputs": [],
   "source": [],
   "metadata": {
    "collapsed": false
   }
  },
  {
   "cell_type": "code",
   "execution_count": null,
   "outputs": [],
   "source": [],
   "metadata": {
    "collapsed": false
   }
  },
  {
   "cell_type": "code",
   "execution_count": null,
   "outputs": [],
   "source": [],
   "metadata": {
    "collapsed": false
   }
  },
  {
   "cell_type": "markdown",
   "source": [
    "Zatim je potrebno odrediti koje su to dve države ostvarile najveću ukupnu kupovinu prozvoda u 2019. god."
   ],
   "metadata": {
    "collapsed": false
   }
  },
  {
   "cell_type": "code",
   "execution_count": null,
   "outputs": [],
   "source": [],
   "metadata": {
    "collapsed": false
   }
  },
  {
   "cell_type": "code",
   "execution_count": null,
   "outputs": [],
   "source": [],
   "metadata": {
    "collapsed": false
   }
  },
  {
   "cell_type": "code",
   "execution_count": null,
   "outputs": [],
   "source": [],
   "metadata": {
    "collapsed": false
   }
  },
  {
   "cell_type": "markdown",
   "source": [
    "Izračunati ukupne iznose kupovine na mesečnom nivou za svaku od ove dve države:"
   ],
   "metadata": {
    "collapsed": false
   }
  },
  {
   "cell_type": "code",
   "execution_count": null,
   "outputs": [],
   "source": [],
   "metadata": {
    "collapsed": false
   }
  },
  {
   "cell_type": "code",
   "execution_count": null,
   "outputs": [],
   "source": [],
   "metadata": {
    "collapsed": false
   }
  },
  {
   "cell_type": "markdown",
   "source": [
    "Prikazati mesečne kupovine za dve države na dva bar plota:"
   ],
   "metadata": {
    "collapsed": false
   }
  },
  {
   "cell_type": "code",
   "execution_count": null,
   "outputs": [],
   "source": [],
   "metadata": {
    "collapsed": false
   }
  },
  {
   "cell_type": "markdown",
   "metadata": {
    "pycharm": {
     "name": "#%% md\n"
    }
   },
   "source": [
    "### Zadaci za vežbu\n",
    "\n",
    "1. Uradite pregled ukupnog ostvarenog prihoda po proizvodima i državama.\n",
    "\n",
    "2. Kojih dana, tokom nedelje, je prosečna vrednost porudžbina bila najviša?\n"
   ]
  }
 ],
 "metadata": {
  "kernelspec": {
   "display_name": "Python 3 (ipykernel)",
   "language": "python",
   "name": "python3"
  },
  "language_info": {
   "codemirror_mode": {
    "name": "ipython",
    "version": 3
   },
   "file_extension": ".py",
   "mimetype": "text/x-python",
   "name": "python",
   "nbconvert_exporter": "python",
   "pygments_lexer": "ipython3",
   "version": "3.10.0"
  }
 },
 "nbformat": 4,
 "nbformat_minor": 4
}
